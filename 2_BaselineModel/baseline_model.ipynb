{
 "cells": [
  {
   "cell_type": "markdown",
   "metadata": {},
   "source": [
    "# Baseline model (RNN)\n",
    "\n",
    "For the baseline model, we use an RNN model. \n",
    "\n",
    "We do not apply any data augmentation for this experiment."
   ]
  },
  {
   "cell_type": "markdown",
   "metadata": {
    "id": "yn7ZKauXns0K"
   },
   "source": [
    "## Import"
   ]
  },
  {
   "cell_type": "code",
   "execution_count": null,
   "metadata": {
    "id": "2YlJHNp6mPsL"
   },
   "outputs": [],
   "source": [
    "# Install packages\n",
    "import pandas as pd\n",
    "import numpy as np\n",
    "import torch\n",
    "import torch.nn as nn\n",
    "from torch.utils.data import Dataset, DataLoader\n",
    "from sklearn.model_selection import train_test_split\n",
    "from collections import Counter"
   ]
  },
  {
   "cell_type": "markdown",
   "metadata": {},
   "source": [
    "## Preparations in Colab"
   ]
  },
  {
   "cell_type": "code",
   "execution_count": null,
   "metadata": {
    "id": "bm9WS4I6hciE"
   },
   "outputs": [],
   "source": [
    "# Install package for kaggle API\n",
    "!pip install -q kaggle"
   ]
  },
  {
   "cell_type": "code",
   "execution_count": null,
   "metadata": {
    "colab": {
     "base_uri": "https://localhost:8080/",
     "height": 96
    },
    "id": "MtdHHWBNhdlB",
    "outputId": "c178fd52-bf0d-4592-8830-32326130dc1d"
   },
   "outputs": [
    {
     "data": {
      "text/html": [
       "\n",
       "     <input type=\"file\" id=\"files-92100bc0-8e68-4c94-880b-e2e3f1776822\" name=\"files[]\" multiple disabled\n",
       "        style=\"border:none\" />\n",
       "     <output id=\"result-92100bc0-8e68-4c94-880b-e2e3f1776822\">\n",
       "      Upload widget is only available when the cell has been executed in the\n",
       "      current browser session. Please rerun this cell to enable.\n",
       "      </output>\n",
       "      <script>// Copyright 2017 Google LLC\n",
       "//\n",
       "// Licensed under the Apache License, Version 2.0 (the \"License\");\n",
       "// you may not use this file except in compliance with the License.\n",
       "// You may obtain a copy of the License at\n",
       "//\n",
       "//      http://www.apache.org/licenses/LICENSE-2.0\n",
       "//\n",
       "// Unless required by applicable law or agreed to in writing, software\n",
       "// distributed under the License is distributed on an \"AS IS\" BASIS,\n",
       "// WITHOUT WARRANTIES OR CONDITIONS OF ANY KIND, either express or implied.\n",
       "// See the License for the specific language governing permissions and\n",
       "// limitations under the License.\n",
       "\n",
       "/**\n",
       " * @fileoverview Helpers for google.colab Python module.\n",
       " */\n",
       "(function(scope) {\n",
       "function span(text, styleAttributes = {}) {\n",
       "  const element = document.createElement('span');\n",
       "  element.textContent = text;\n",
       "  for (const key of Object.keys(styleAttributes)) {\n",
       "    element.style[key] = styleAttributes[key];\n",
       "  }\n",
       "  return element;\n",
       "}\n",
       "\n",
       "// Max number of bytes which will be uploaded at a time.\n",
       "const MAX_PAYLOAD_SIZE = 100 * 1024;\n",
       "\n",
       "function _uploadFiles(inputId, outputId) {\n",
       "  const steps = uploadFilesStep(inputId, outputId);\n",
       "  const outputElement = document.getElementById(outputId);\n",
       "  // Cache steps on the outputElement to make it available for the next call\n",
       "  // to uploadFilesContinue from Python.\n",
       "  outputElement.steps = steps;\n",
       "\n",
       "  return _uploadFilesContinue(outputId);\n",
       "}\n",
       "\n",
       "// This is roughly an async generator (not supported in the browser yet),\n",
       "// where there are multiple asynchronous steps and the Python side is going\n",
       "// to poll for completion of each step.\n",
       "// This uses a Promise to block the python side on completion of each step,\n",
       "// then passes the result of the previous step as the input to the next step.\n",
       "function _uploadFilesContinue(outputId) {\n",
       "  const outputElement = document.getElementById(outputId);\n",
       "  const steps = outputElement.steps;\n",
       "\n",
       "  const next = steps.next(outputElement.lastPromiseValue);\n",
       "  return Promise.resolve(next.value.promise).then((value) => {\n",
       "    // Cache the last promise value to make it available to the next\n",
       "    // step of the generator.\n",
       "    outputElement.lastPromiseValue = value;\n",
       "    return next.value.response;\n",
       "  });\n",
       "}\n",
       "\n",
       "/**\n",
       " * Generator function which is called between each async step of the upload\n",
       " * process.\n",
       " * @param {string} inputId Element ID of the input file picker element.\n",
       " * @param {string} outputId Element ID of the output display.\n",
       " * @return {!Iterable<!Object>} Iterable of next steps.\n",
       " */\n",
       "function* uploadFilesStep(inputId, outputId) {\n",
       "  const inputElement = document.getElementById(inputId);\n",
       "  inputElement.disabled = false;\n",
       "\n",
       "  const outputElement = document.getElementById(outputId);\n",
       "  outputElement.innerHTML = '';\n",
       "\n",
       "  const pickedPromise = new Promise((resolve) => {\n",
       "    inputElement.addEventListener('change', (e) => {\n",
       "      resolve(e.target.files);\n",
       "    });\n",
       "  });\n",
       "\n",
       "  const cancel = document.createElement('button');\n",
       "  inputElement.parentElement.appendChild(cancel);\n",
       "  cancel.textContent = 'Cancel upload';\n",
       "  const cancelPromise = new Promise((resolve) => {\n",
       "    cancel.onclick = () => {\n",
       "      resolve(null);\n",
       "    };\n",
       "  });\n",
       "\n",
       "  // Wait for the user to pick the files.\n",
       "  const files = yield {\n",
       "    promise: Promise.race([pickedPromise, cancelPromise]),\n",
       "    response: {\n",
       "      action: 'starting',\n",
       "    }\n",
       "  };\n",
       "\n",
       "  cancel.remove();\n",
       "\n",
       "  // Disable the input element since further picks are not allowed.\n",
       "  inputElement.disabled = true;\n",
       "\n",
       "  if (!files) {\n",
       "    return {\n",
       "      response: {\n",
       "        action: 'complete',\n",
       "      }\n",
       "    };\n",
       "  }\n",
       "\n",
       "  for (const file of files) {\n",
       "    const li = document.createElement('li');\n",
       "    li.append(span(file.name, {fontWeight: 'bold'}));\n",
       "    li.append(span(\n",
       "        `(${file.type || 'n/a'}) - ${file.size} bytes, ` +\n",
       "        `last modified: ${\n",
       "            file.lastModifiedDate ? file.lastModifiedDate.toLocaleDateString() :\n",
       "                                    'n/a'} - `));\n",
       "    const percent = span('0% done');\n",
       "    li.appendChild(percent);\n",
       "\n",
       "    outputElement.appendChild(li);\n",
       "\n",
       "    const fileDataPromise = new Promise((resolve) => {\n",
       "      const reader = new FileReader();\n",
       "      reader.onload = (e) => {\n",
       "        resolve(e.target.result);\n",
       "      };\n",
       "      reader.readAsArrayBuffer(file);\n",
       "    });\n",
       "    // Wait for the data to be ready.\n",
       "    let fileData = yield {\n",
       "      promise: fileDataPromise,\n",
       "      response: {\n",
       "        action: 'continue',\n",
       "      }\n",
       "    };\n",
       "\n",
       "    // Use a chunked sending to avoid message size limits. See b/62115660.\n",
       "    let position = 0;\n",
       "    do {\n",
       "      const length = Math.min(fileData.byteLength - position, MAX_PAYLOAD_SIZE);\n",
       "      const chunk = new Uint8Array(fileData, position, length);\n",
       "      position += length;\n",
       "\n",
       "      const base64 = btoa(String.fromCharCode.apply(null, chunk));\n",
       "      yield {\n",
       "        response: {\n",
       "          action: 'append',\n",
       "          file: file.name,\n",
       "          data: base64,\n",
       "        },\n",
       "      };\n",
       "\n",
       "      let percentDone = fileData.byteLength === 0 ?\n",
       "          100 :\n",
       "          Math.round((position / fileData.byteLength) * 100);\n",
       "      percent.textContent = `${percentDone}% done`;\n",
       "\n",
       "    } while (position < fileData.byteLength);\n",
       "  }\n",
       "\n",
       "  // All done.\n",
       "  yield {\n",
       "    response: {\n",
       "      action: 'complete',\n",
       "    }\n",
       "  };\n",
       "}\n",
       "\n",
       "scope.google = scope.google || {};\n",
       "scope.google.colab = scope.google.colab || {};\n",
       "scope.google.colab._files = {\n",
       "  _uploadFiles,\n",
       "  _uploadFilesContinue,\n",
       "};\n",
       "})(self);\n",
       "</script> "
      ],
      "text/plain": [
       "<IPython.core.display.HTML object>"
      ]
     },
     "metadata": {},
     "output_type": "display_data"
    },
    {
     "name": "stdout",
     "output_type": "stream",
     "text": [
      "Saving kaggle.json to kaggle.json\n"
     ]
    },
    {
     "data": {
      "text/plain": [
       "{'kaggle.json': b'{\"username\":\"hansgntermayer\",\"key\":\"70056ed66e5e2cb6698849d2d10a8db3\"}'}"
      ]
     },
     "execution_count": 2,
     "metadata": {},
     "output_type": "execute_result"
    }
   ],
   "source": [
    "# Upload file\n",
    "from google.colab import files\n",
    "files.upload()"
   ]
  },
  {
   "cell_type": "code",
   "execution_count": null,
   "metadata": {
    "id": "d7aEx4uQhqee"
   },
   "outputs": [],
   "source": [
    "# Create directory\n",
    "!mkdir -p ~/.kaggle\n",
    "# Upload Kaggle credentials\n",
    "!cp kaggle.json ~/.kaggle/\n",
    "# Set permissions for file\n",
    "!chmod 600 ~/.kaggle/kaggle.json"
   ]
  },
  {
   "cell_type": "code",
   "execution_count": null,
   "metadata": {
    "colab": {
     "base_uri": "https://localhost:8080/"
    },
    "id": "rvKYYqOhjDLq",
    "outputId": "59f94254-31f7-4d22-a096-cca09aacf224"
   },
   "outputs": [
    {
     "name": "stdout",
     "output_type": "stream",
     "text": [
      "Downloading jigsaw-multilingual-toxic-comment-classification.zip to /content\n",
      "100% 1.08G/1.08G [00:16<00:00, 76.1MB/s]\n",
      "100% 1.08G/1.08G [00:16<00:00, 69.6MB/s]\n"
     ]
    }
   ],
   "source": [
    "# Download kaggle dataset\n",
    "!kaggle competitions download -c jigsaw-multilingual-toxic-comment-classification"
   ]
  },
  {
   "cell_type": "code",
   "execution_count": null,
   "metadata": {
    "colab": {
     "base_uri": "https://localhost:8080/"
    },
    "id": "t3xrfrf2kfRI",
    "outputId": "eef11628-3f1f-4dee-8d7b-2938a0ab3cc9"
   },
   "outputs": [
    {
     "name": "stdout",
     "output_type": "stream",
     "text": [
      "Archive:  jigsaw-multilingual-toxic-comment-classification.zip\n",
      "  inflating: jigsaw-toxic-comment-train-processed-seqlen128.csv  \n",
      "  inflating: jigsaw-toxic-comment-train.csv  \n",
      "  inflating: jigsaw-unintended-bias-train-processed-seqlen128.csv  \n",
      "  inflating: jigsaw-unintended-bias-train.csv  \n",
      "  inflating: sample_submission.csv   \n",
      "  inflating: test-processed-seqlen128.csv  \n",
      "  inflating: test.csv                \n",
      "  inflating: test_labels.csv         \n",
      "  inflating: validation-processed-seqlen128.csv  \n",
      "  inflating: validation.csv          \n"
     ]
    }
   ],
   "source": [
    "# Unzip dataset\n",
    "!unzip jigsaw-multilingual-toxic-comment-classification.zip"
   ]
  },
  {
   "cell_type": "markdown",
   "metadata": {
    "id": "5fc0yJLknnhH"
   },
   "source": [
    "## Data Preprocessing\n",
    "\n",
    "Due to long computation times, we only used 10,000 samples from the training set for this experiment."
   ]
  },
  {
   "cell_type": "code",
   "execution_count": null,
   "metadata": {
    "colab": {
     "base_uri": "https://localhost:8080/"
    },
    "id": "zE27x7GGmRzz",
    "outputId": "2acf1588-e6e0-4b12-dc15-554d4b150998"
   },
   "outputs": [
    {
     "data": {
      "text/plain": [
       "10000"
      ]
     },
     "execution_count": 7,
     "metadata": {},
     "output_type": "execute_result"
    }
   ],
   "source": [
    "# Import first 10,000 rows of training set with relevant columns\n",
    "df = pd.read_csv(\"jigsaw-toxic-comment-train.csv\", usecols=[\"comment_text\", \"toxic\"])[:10000]\n",
    "# Extract comment texts as Numpy array\n",
    "texts = df[\"comment_text\"].values\n",
    "# Extract labels as Numpy array\n",
    "labels = df[\"toxic\"].values\n",
    "\n",
    "# Create train / test split\n",
    "train_texts, test_texts, train_labels, test_labels = train_test_split(\n",
    "    texts, labels, test_size=0.2, random_state=42\n",
    ")\n",
    "\n",
    "len(df)"
   ]
  },
  {
   "cell_type": "markdown",
   "metadata": {
    "id": "Jy6ovzEpnjAU"
   },
   "source": [
    "# Vocabulary and Tokenize"
   ]
  },
  {
   "cell_type": "code",
   "execution_count": null,
   "metadata": {
    "id": "hZoUxWnim1RB"
   },
   "outputs": [],
   "source": [
    "# Function to create vocabulary\n",
    "def build_vocab(texts, max_vocab_size=10000):\n",
    "    # Tokenize and count words\n",
    "    word_counts = Counter()\n",
    "    for text in texts:\n",
    "        tokens = text.lower().split()\n",
    "        word_counts.update(tokens)\n",
    "\n",
    "    # Keep most frequent words\n",
    "    vocab = {word: idx+2 for idx, (word, _) in enumerate(word_counts.most_common(max_vocab_size))}\n",
    "    vocab[\"<PAD>\"] = 0  # Padding token\n",
    "    vocab[\"<UNK>\"] = 1  # Unknown token\n",
    "    return vocab\n",
    "\n",
    "# Create vocabulary for training data\n",
    "vocab = build_vocab(train_texts)\n",
    "\n",
    "# Tokenizing Function\n",
    "def text_to_indices(text, vocab, max_length=100):\n",
    "    tokens = text.lower().split()\n",
    "    indices = [vocab.get(token, vocab[\"<UNK>\"]) for token in tokens]\n",
    "    # Truncate or pad sequences\n",
    "    if len(indices) > max_length:\n",
    "        return indices[:max_length]\n",
    "    else:\n",
    "        return indices + [vocab[\"<PAD>\"]] * (max_length - len(indices))\n",
    "\n",
    "# Tokenize training and test data\n",
    "max_length = 100\n",
    "train_sequences = [text_to_indices(text, vocab, max_length) for text in train_texts]\n",
    "test_sequences = [text_to_indices(text, vocab, max_length) for text in test_texts]\n",
    "\n",
    "# Convert to PyTorch tensors\n",
    "train_data = torch.tensor(train_sequences, dtype=torch.long)\n",
    "test_data = torch.tensor(test_sequences, dtype=torch.long)\n",
    "train_labels = torch.tensor(train_labels, dtype=torch.float)\n",
    "test_labels = torch.tensor(test_labels, dtype=torch.float)"
   ]
  },
  {
   "cell_type": "markdown",
   "metadata": {
    "id": "WHuVAIk9nfCA"
   },
   "source": [
    "## Dataset"
   ]
  },
  {
   "cell_type": "code",
   "execution_count": null,
   "metadata": {
    "id": "zC0jJIhjm_5n"
   },
   "outputs": [],
   "source": [
    "# Define Dataset class for handling the datasets\n",
    "class ToxicCommentDataset(Dataset):\n",
    "    def __init__(self, sequences, labels):\n",
    "        self.sequences = sequences\n",
    "        self.labels = labels\n",
    "\n",
    "    def __len__(self):\n",
    "        return len(self.sequences)\n",
    "\n",
    "    def __getitem__(self, idx):\n",
    "        return self.sequences[idx], self.labels[idx]\n",
    "\n",
    "batch_size = 64\n",
    "\n",
    "# Built datasets\n",
    "train_dataset = ToxicCommentDataset(train_data, train_labels)\n",
    "test_dataset = ToxicCommentDataset(test_data, test_labels)\n",
    "\n",
    "train_loader = DataLoader(train_dataset, batch_size=batch_size, shuffle=True)\n",
    "test_loader = DataLoader(test_dataset, batch_size=batch_size, shuffle=False)"
   ]
  },
  {
   "cell_type": "markdown",
   "metadata": {
    "id": "CybcfsVRnW64"
   },
   "source": [
    "## Baseline Model"
   ]
  },
  {
   "cell_type": "code",
   "execution_count": null,
   "metadata": {
    "id": "nIwyyRCHnE93"
   },
   "outputs": [],
   "source": [
    "# Define the RNN model\n",
    "class RNNClassifier(nn.Module):\n",
    "    def __init__(self, vocab_size, embedding_dim, hidden_dim, output_dim, n_layers=1):\n",
    "        super().__init__()\n",
    "        self.embedding = nn.Embedding(vocab_size, embedding_dim)\n",
    "        self.rnn = nn.RNN(embedding_dim, hidden_dim, batch_first=True, num_layers=n_layers)\n",
    "        self.fc = nn.Linear(hidden_dim, output_dim)\n",
    "        self.dropout = nn.Dropout(0.5)\n",
    "\n",
    "    def forward(self, x):\n",
    "        # x shape: [batch_size, seq_length]\n",
    "        embedded = self.embedding(x)  # [batch_size, seq_length, embedding_dim]\n",
    "        output, hidden = self.rnn(embedded)\n",
    "        # Take the last hidden state\n",
    "        hidden = self.dropout(hidden[-1])\n",
    "        return self.fc(hidden)\n",
    "\n",
    "# Define hyperparameters\n",
    "vocab_size = len(vocab)\n",
    "embedding_dim = 100\n",
    "hidden_dim = 128\n",
    "output_dim = 1\n",
    "\n",
    "# Create model\n",
    "model = RNNClassifier(vocab_size, embedding_dim, hidden_dim, output_dim)"
   ]
  },
  {
   "cell_type": "markdown",
   "metadata": {
    "id": "0JHfFhR2nQ8I"
   },
   "source": [
    "## Training"
   ]
  },
  {
   "cell_type": "code",
   "execution_count": null,
   "metadata": {
    "colab": {
     "base_uri": "https://localhost:8080/"
    },
    "id": "lMZVrYqQnHpH",
    "outputId": "08c9c8dd-4222-4093-d5e9-2af2e6f4310d"
   },
   "outputs": [
    {
     "name": "stdout",
     "output_type": "stream",
     "text": [
      "Epoch 1, Loss: 0.2921\n",
      "Epoch 2, Loss: 0.2337\n",
      "Epoch 3, Loss: 0.5011\n",
      "Epoch 4, Loss: 0.2174\n",
      "Epoch 5, Loss: 0.2462\n"
     ]
    }
   ],
   "source": [
    "# Import package for ROC AUC score\n",
    "from sklearn.metrics import roc_auc_score\n",
    "\n",
    "# Use GPU, if available\n",
    "device = torch.device(\"cuda\" if torch.cuda.is_available() else \"cpu\")\n",
    "# Put model on GPU, if available\n",
    "model = model.to(device)\n",
    "\n",
    "# Define loss function\n",
    "criterion = nn.BCEWithLogitsLoss()\n",
    "# Define optimizer\n",
    "optimizer = torch.optim.Adam(model.parameters(), lr=1e-3)\n",
    "\n",
    "# Define number of epochs\n",
    "num_epochs = 5\n",
    "\n",
    "# Perform training\n",
    "for epoch in range(num_epochs):\n",
    "    model.train()\n",
    "    for batch in train_loader:\n",
    "        sequences, labels = batch\n",
    "        sequences, labels = sequences.to(device), labels.to(device)\n",
    "        optimizer.zero_grad()\n",
    "        predictions = model(sequences).squeeze(1)\n",
    "        loss = criterion(predictions, labels)\n",
    "        loss.backward()\n",
    "        optimizer.step()\n",
    "    print(f\"Epoch {epoch+1}, Loss: {loss.item():.4f}\")"
   ]
  },
  {
   "cell_type": "markdown",
   "metadata": {
    "id": "oK4DoCeonSmO"
   },
   "source": [
    "## Evaluate"
   ]
  },
  {
   "cell_type": "code",
   "execution_count": null,
   "metadata": {
    "colab": {
     "base_uri": "https://localhost:8080/"
    },
    "id": "UxGTOyl2nNqF",
    "outputId": "d01f3c85-9278-46e4-ce35-ebceafe76d64"
   },
   "outputs": [
    {
     "name": "stdout",
     "output_type": "stream",
     "text": [
      "Epoch 5, Loss: 0.2462, Test AUC: 0.5275\n"
     ]
    }
   ],
   "source": [
    "# Put model in evaluation mode\n",
    "model.eval()\n",
    "# Create lists for probabilities and labels\n",
    "all_probs = []\n",
    "all_labels = []\n",
    "\n",
    "# Evaluate on test set\n",
    "with torch.no_grad():\n",
    "    for batch in test_loader:\n",
    "        sequences, labels = batch\n",
    "        sequences, labels = sequences.to(device), labels.to(device)\n",
    "        predictions = model(sequences).squeeze(1)\n",
    "        probs = torch.sigmoid(predictions)  # Convert logits to probabilities\n",
    "        all_probs.append(probs.cpu())\n",
    "        all_labels.append(labels.cpu())\n",
    "\n",
    "# Calculate ROC-AUC\n",
    "all_probs = torch.cat(all_probs).numpy()\n",
    "all_labels = torch.cat(all_labels).numpy()\n",
    "auc = roc_auc_score(all_labels, all_probs)\n",
    "\n",
    "print(f\"Epoch {epoch+1}, Loss: {loss.item():.4f}, Test AUC: {auc:.4f}\")"
   ]
  },
  {
   "cell_type": "markdown",
   "metadata": {},
   "source": [
    "The ROC AUC score is bad. A value of 50% equals random guessing. The result of 52.75% is only slightly better. \n",
    "Note that we used a partition of the training data as test data for this experiment. That means, it is much more similar to the training data we used, than the actual test data of the Kaggle competition, in which the comments are in different languages."
   ]
  },
  {
   "cell_type": "code",
   "execution_count": null,
   "metadata": {},
   "outputs": [],
   "source": []
  }
 ],
 "metadata": {
  "colab": {
   "provenance": []
  },
  "kernelspec": {
   "display_name": "Python 3 (ipykernel)",
   "language": "python",
   "name": "python3"
  },
  "language_info": {
   "codemirror_mode": {
    "name": "ipython",
    "version": 3
   },
   "file_extension": ".py",
   "mimetype": "text/x-python",
   "name": "python",
   "nbconvert_exporter": "python",
   "pygments_lexer": "ipython3",
   "version": "3.7.4"
  }
 },
 "nbformat": 4,
 "nbformat_minor": 1
}

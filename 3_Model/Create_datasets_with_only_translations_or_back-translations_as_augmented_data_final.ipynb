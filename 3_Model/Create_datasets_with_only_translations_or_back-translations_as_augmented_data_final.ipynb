{
 "cells": [
  {
   "cell_type": "markdown",
   "id": "57a8c581",
   "metadata": {},
   "source": [
    "# Create datasets with only translations or back-translations as augmented additions"
   ]
  },
  {
   "cell_type": "code",
   "execution_count": 1,
   "id": "484b1e55",
   "metadata": {},
   "outputs": [],
   "source": [
    "# Import libraries\n",
    "import pandas as pd\n",
    "import os"
   ]
  },
  {
   "cell_type": "markdown",
   "id": "950595f1",
   "metadata": {},
   "source": [
    "## 1. Augmented dataset with only back-translations as augmentation"
   ]
  },
  {
   "cell_type": "markdown",
   "id": "a8a43015",
   "metadata": {},
   "source": [
    "### Load datasets"
   ]
  },
  {
   "cell_type": "code",
   "execution_count": 2,
   "id": "cc50107d",
   "metadata": {},
   "outputs": [
    {
     "name": "stdout",
     "output_type": "stream",
     "text": [
      "<bound method NDFrame.head of                      id                                       comment_text  \\\n",
      "0      0002bcb3da6cb337                 FUCK OFF BEFORE YOU PISS IN MY JOB   \n",
      "1      0002bcb3da6cb337                 COCKSUCKER BEFORE YOU SUCK MY WORK   \n",
      "2      0002bcb3da6cb337     BLOWJOB BEFORE YOU GET PISSED OFF ABOUT MY JOB   \n",
      "3      0002bcb3da6cb337          SUCK YOUR COCK BEFORE YOU PISS ON MY WORK   \n",
      "4      0002bcb3da6cb337              COCKSUCKER BEFORE YOU PISS ON MY WORK   \n",
      "...                 ...                                                ...   \n",
      "75811  8adf8133ecb9c3b2  \"\\n\\nLack of sources? The same Jewish newspape...   \n",
      "75812  8adf8133ecb9c3b2  \"\\n\\nLack of sources? The same Jewish newspape...   \n",
      "75813  8adf8133ecb9c3b2  \"\\n\\nLack of sources? The same Jewish newspape...   \n",
      "75814  8adf8133ecb9c3b2  \"\\n\\nLack of sources? The same Jewish newspape...   \n",
      "75815  8adf8133ecb9c3b2  \"\\n\\nShortage of sources? The same Jewish news...   \n",
      "\n",
      "       toxic  severe_toxic  obscene  threat  insult  identity_hate  \n",
      "0          1             1        1       0       1              0  \n",
      "1          1             1        1       0       1              0  \n",
      "2          1             1        1       0       1              0  \n",
      "3          1             1        1       0       1              0  \n",
      "4          1             1        1       0       1              0  \n",
      "...      ...           ...      ...     ...     ...            ...  \n",
      "75811      1             0        0       0       0              0  \n",
      "75812      1             0        0       0       0              0  \n",
      "75813      1             0        0       0       0              0  \n",
      "75814      1             0        0       0       0              0  \n",
      "75815      1             0        0       0       0              0  \n",
      "\n",
      "[75816 rows x 8 columns]>\n"
     ]
    }
   ],
   "source": [
    "# Load .csv with only back-translations\n",
    "back = pd.read_csv('back-1-15.csv')\n",
    "print(back.head)"
   ]
  },
  {
   "cell_type": "code",
   "execution_count": 3,
   "id": "a0e95eba",
   "metadata": {},
   "outputs": [],
   "source": [
    "# Load original training data\n",
    "df = pd.read_csv('jigsaw-toxic-comment-train.csv')"
   ]
  },
  {
   "cell_type": "markdown",
   "id": "5b73440c",
   "metadata": {},
   "source": [
    "### Separate toxic and non-toxic samples of original training data"
   ]
  },
  {
   "cell_type": "code",
   "execution_count": 4,
   "id": "504dffa2",
   "metadata": {},
   "outputs": [],
   "source": [
    "\n",
    "# Create 'tox' dataset where 'toxic' column is 1\n",
    "tox = df[df['toxic'] == 1]\n",
    "\n",
    "# Create 'nontox' dataset where 'toxic' column is 0\n",
    "nontox = df[df['toxic'] == 0]\n",
    "\n",
    "# Now 'tox' contains rows where 'toxic' == 1, and 'nontox' contains rows where 'toxic' == 0\n"
   ]
  },
  {
   "cell_type": "markdown",
   "id": "603b75e9",
   "metadata": {},
   "source": [
    "### Concatenate augmented toxic data from back-translations and original toxic data"
   ]
  },
  {
   "cell_type": "code",
   "execution_count": 5,
   "id": "9bc95c9a",
   "metadata": {},
   "outputs": [],
   "source": [
    "# Concatenate the 'tox' and 'back' DataFrames vertically (along rows)\n",
    "concatenated_df = pd.concat([tox, back], ignore_index=True)\n"
   ]
  },
  {
   "cell_type": "markdown",
   "id": "c85a5e9c",
   "metadata": {},
   "source": [
    "### Shuffle the non-toxic samples and truncate the dataframe at the same number, the toxic data has\n",
    "\n",
    "Since the toxic data after augmentation with back-translation is still a less than the non-toxic data, the number of non-toxic data used for the new dataset is limited to the same length as the dataframe of the toxic data.\n",
    "\n",
    "To ensure a randomness in the non-toxic data used, it is first shuffled."
   ]
  },
  {
   "cell_type": "code",
   "execution_count": 9,
   "id": "c6dd155b",
   "metadata": {},
   "outputs": [],
   "source": [
    "# Get the length of concatenated_df\n",
    "n = len(concatenated_df)\n",
    "\n",
    "# Shuffle nontox\n",
    "nontox_shuffled = nontox.sample(frac=1, random_state=42).reset_index(drop=True)\n",
    "\n",
    "# Take the first 'n' rows\n",
    "nontox_first_n = nontox_shuffled.head(n)\n",
    "\n",
    "# Now nontox_first_n contains the first 'n' shuffled rows\n"
   ]
  },
  {
   "cell_type": "markdown",
   "id": "1a67cf46",
   "metadata": {},
   "source": [
    "### Concatenate the toxic and non-toxic"
   ]
  },
  {
   "cell_type": "code",
   "execution_count": 11,
   "id": "a0a0e264",
   "metadata": {},
   "outputs": [],
   "source": [
    "# Concatenate toxic and same number of samples of non-toxic\n",
    "back_incl_non = pd.concat([concatenated_df, nontox_first_n], ignore_index=True)"
   ]
  },
  {
   "cell_type": "markdown",
   "id": "54757500",
   "metadata": {},
   "source": [
    "### Shuffle the dataset to avoid having all toxic comments at the beginning"
   ]
  },
  {
   "cell_type": "code",
   "execution_count": 15,
   "id": "eb459ece",
   "metadata": {},
   "outputs": [],
   "source": [
    "# Shuffle the dataset\n",
    "back_incl_non = back_incl_non.sample(frac=1, random_state=42).reset_index(drop=True)"
   ]
  },
  {
   "cell_type": "markdown",
   "id": "cda63982",
   "metadata": {},
   "source": [
    "### Check result"
   ]
  },
  {
   "cell_type": "code",
   "execution_count": 16,
   "id": "72f447cc",
   "metadata": {},
   "outputs": [
    {
     "name": "stdout",
     "output_type": "stream",
     "text": [
      "<bound method NDFrame.head of                       id                                       comment_text  \\\n",
      "0       9391e0448ec3a85e  Mr Birdsmight, with due respect i have full ri...   \n",
      "1       efd69e53c53a3127  So basically, the user Johnuniq is to follow t...   \n",
      "2       b1ba84c35a13f661  I'm talking about the right comments, buddy. U...   \n",
      "3       d3a86ff124309a1d  \"\\n\\n Jimmy Wales used to make money from Porn...   \n",
      "4       ec05157d086edc23  I did not ignore the hangon notice. I read you...   \n",
      "...                  ...                                                ...   \n",
      "194395  db304617e49b2f36  Seanad seats are the same as Dáil seats: in pr...   \n",
      "194396  0f72773807de775f  Yadda Yadda Yadda. Nothing you just said is re...   \n",
      "194397  6db49b1b04b6335a  I am sick of all these problems from incompete...   \n",
      "194398  a0f795800ea397d1  We Bulgarians have nothing in common with Mong...   \n",
      "194399  4b8465a54fa85619  If you don't see the idiotism or intentional d...   \n",
      "\n",
      "        toxic  severe_toxic  obscene  threat  insult  identity_hate  \n",
      "0           0             0        0       0       0              0  \n",
      "1           0             0        0       0       0              0  \n",
      "2           1             0        0       0       0              0  \n",
      "3           1             0        0       0       0              0  \n",
      "4           0             0        0       0       0              0  \n",
      "...       ...           ...      ...     ...     ...            ...  \n",
      "194395      0             0        0       0       0              0  \n",
      "194396      1             0        0       0       0              0  \n",
      "194397      1             0        0       0       0              0  \n",
      "194398      1             0        1       0       0              0  \n",
      "194399      1             0        0       0       0              0  \n",
      "\n",
      "[194400 rows x 8 columns]>\n"
     ]
    }
   ],
   "source": [
    "print(back_incl_non.head)"
   ]
  },
  {
   "cell_type": "markdown",
   "id": "a05423d7",
   "metadata": {},
   "source": [
    "### Save new dataset as .csv"
   ]
  },
  {
   "cell_type": "code",
   "execution_count": 27,
   "id": "c2a7828e",
   "metadata": {},
   "outputs": [],
   "source": [
    "back_incl_non.to_csv('back_incl_non.csv', index=False)"
   ]
  },
  {
   "cell_type": "markdown",
   "id": "63caab54",
   "metadata": {},
   "source": [
    "# 2. Augmented dataset with only translations as augmentation"
   ]
  },
  {
   "cell_type": "markdown",
   "id": "cfcf0dab",
   "metadata": {},
   "source": [
    "## Repeat process for translations"
   ]
  },
  {
   "cell_type": "markdown",
   "id": "ea534f19",
   "metadata": {},
   "source": [
    "### Load dataset with only translations"
   ]
  },
  {
   "cell_type": "code",
   "execution_count": 18,
   "id": "54d328e9",
   "metadata": {},
   "outputs": [
    {
     "name": "stdout",
     "output_type": "stream",
     "text": [
      "<bound method NDFrame.head of                      id                                       comment_text  \\\n",
      "0      0002bcb3da6cb337                     İŞİME İŞEMEDEN ÖNCE SİKTİR GİT   \n",
      "1      0002bcb3da6cb337          ХУЕСОС, ПРЕЖДЕ ЧЕМ ТЫ ОБСОСЁШЬ МОЮ РАБОТУ   \n",
      "2      0002bcb3da6cb337         POMPINO PRIMA DI INCAZZARTI SUL MIO LAVORO   \n",
      "3      0002bcb3da6cb337  SUÇON DE BITE AVANT QUE TU PISSES SUR MON TRAVAIL   \n",
      "4      0002bcb3da6cb337  CHUPADOR DE PAU ANTES QUE VOCÊ MIJE NO MEU TRA...   \n",
      "...                 ...                                                ...   \n",
      "75811  8adf8133ecb9c3b2  \"\\n\\nНехватка источников? Те же еврейские газе...   \n",
      "75812  8adf8133ecb9c3b2  \"\\n\\nCarenza di fonti? Gli stessi giornali ebr...   \n",
      "75813  8adf8133ecb9c3b2  \"\\n\\nManque de sources ? Les mêmes journaux ju...   \n",
      "75814  8adf8133ecb9c3b2  \"\\n\\nEscassez de fontes? Os mesmos jornais jud...   \n",
      "75815  8adf8133ecb9c3b2  \"\\n\\n¿Escasez de fuentes? Los mismos periódico...   \n",
      "\n",
      "       toxic  severe_toxic  obscene  threat  insult  identity_hate  \n",
      "0          1             1        1       0       1              0  \n",
      "1          1             1        1       0       1              0  \n",
      "2          1             1        1       0       1              0  \n",
      "3          1             1        1       0       1              0  \n",
      "4          1             1        1       0       1              0  \n",
      "...      ...           ...      ...     ...     ...            ...  \n",
      "75811      1             0        0       0       0              0  \n",
      "75812      1             0        0       0       0              0  \n",
      "75813      1             0        0       0       0              0  \n",
      "75814      1             0        0       0       0              0  \n",
      "75815      1             0        0       0       0              0  \n",
      "\n",
      "[75816 rows x 8 columns]>\n"
     ]
    }
   ],
   "source": [
    "# Load file with only translations\n",
    "\n",
    "tr = pd.read_csv('trans-1-15.csv')\n",
    "print(tr.head)"
   ]
  },
  {
   "cell_type": "markdown",
   "id": "03de83dc",
   "metadata": {},
   "source": [
    "### Concatenate augmented toxic data from translations and original toxic data"
   ]
  },
  {
   "cell_type": "code",
   "execution_count": 19,
   "id": "c846a142",
   "metadata": {},
   "outputs": [],
   "source": [
    "# Concatenate the 'tox' and 'tr' DataFrames vertically (along rows)\n",
    "concatenated_df = pd.concat([tox, tr], ignore_index=True)"
   ]
  },
  {
   "cell_type": "markdown",
   "id": "dd91398a",
   "metadata": {},
   "source": [
    "### Shuffle the non-toxic samples and truncate the dataframe at the same number, the toxic data has\n",
    "\n",
    "Since the toxic data after augmentation with translation is still a less than the non-toxic data, the number of non-toxic data used for the new dataset is limited to the same length as the dataframe of the toxic data.\n",
    "\n",
    "To ensure a randomness in the non-toxic data used, it is first shuffled."
   ]
  },
  {
   "cell_type": "code",
   "execution_count": 20,
   "id": "86c14952",
   "metadata": {},
   "outputs": [],
   "source": [
    "# Get the length of concatenated_df\n",
    "n = len(concatenated_df)\n",
    "\n",
    "# Shuffle nontox\n",
    "nontox_shuffled = nontox.sample(frac=1, random_state=42).reset_index(drop=True)\n",
    "\n",
    "# Take the first 'n' rows\n",
    "nontox_first_n = nontox_shuffled.head(n)\n",
    "\n",
    "# Now nontox_first_n contains the first 'n' shuffled rows\n"
   ]
  },
  {
   "cell_type": "markdown",
   "id": "9497e09b",
   "metadata": {},
   "source": [
    "### Concatenate the toxic and non-toxic"
   ]
  },
  {
   "cell_type": "code",
   "execution_count": 21,
   "id": "38767f77",
   "metadata": {},
   "outputs": [],
   "source": [
    "# Concatenate toxic and same number of samples of non-toxic\n",
    "tr_incl_non = pd.concat([concatenated_df, nontox_first_n], ignore_index=True)"
   ]
  },
  {
   "cell_type": "markdown",
   "id": "26057cb7",
   "metadata": {},
   "source": [
    "### Shuffle the dataset to avoid having all toxic comments at the beginning"
   ]
  },
  {
   "cell_type": "code",
   "execution_count": 25,
   "id": "6e03a046",
   "metadata": {},
   "outputs": [],
   "source": [
    "tr_incl_non = tr_incl_non.sample(frac=1, random_state=42).reset_index(drop=True)"
   ]
  },
  {
   "cell_type": "markdown",
   "id": "7861a6a8",
   "metadata": {},
   "source": [
    "### Check result"
   ]
  },
  {
   "cell_type": "code",
   "execution_count": 26,
   "id": "b8fa968f",
   "metadata": {},
   "outputs": [
    {
     "name": "stdout",
     "output_type": "stream",
     "text": [
      "<bound method NDFrame.head of                       id                                       comment_text  \\\n",
      "0       9391e0448ec3a85e  Mr Birdsmight, with due respect i have full ri...   \n",
      "1       efd69e53c53a3127  So basically, the user Johnuniq is to follow t...   \n",
      "2       b1ba84c35a13f661  Я говорю о правильных комментариях, приятель. ...   \n",
      "3       d3a86ff124309a1d  \"\\n\\n Jimmy Wales used to make money from Porn...   \n",
      "4       ec05157d086edc23  I did not ignore the hangon notice. I read you...   \n",
      "...                  ...                                                ...   \n",
      "194395  db304617e49b2f36  Seanad seats are the same as Dáil seats: in pr...   \n",
      "194396  0f72773807de775f  Yadda Yadda Yadda. Az önce söylediğin hiçbir ş...   \n",
      "194397  6db49b1b04b6335a  I am sick of all these problems from incompete...   \n",
      "194398  a0f795800ea397d1  Nous, les Bulgares, n'avons rien en commun ave...   \n",
      "194399  4b8465a54fa85619  If you don't see the idiotism or intentional d...   \n",
      "\n",
      "        toxic  severe_toxic  obscene  threat  insult  identity_hate  \n",
      "0           0             0        0       0       0              0  \n",
      "1           0             0        0       0       0              0  \n",
      "2           1             0        0       0       0              0  \n",
      "3           1             0        0       0       0              0  \n",
      "4           0             0        0       0       0              0  \n",
      "...       ...           ...      ...     ...     ...            ...  \n",
      "194395      0             0        0       0       0              0  \n",
      "194396      1             0        0       0       0              0  \n",
      "194397      1             0        0       0       0              0  \n",
      "194398      1             0        1       0       0              0  \n",
      "194399      1             0        0       0       0              0  \n",
      "\n",
      "[194400 rows x 8 columns]>\n"
     ]
    }
   ],
   "source": [
    "print(tr_incl_non.head)"
   ]
  },
  {
   "cell_type": "markdown",
   "id": "761200e4",
   "metadata": {},
   "source": [
    "### Save new dataset as .csv"
   ]
  },
  {
   "cell_type": "code",
   "execution_count": 28,
   "id": "1ad7667a",
   "metadata": {},
   "outputs": [],
   "source": [
    "tr_incl_non.to_csv('tr_incl_non.csv', index=False)"
   ]
  }
 ],
 "metadata": {
  "kernelspec": {
   "display_name": "Python 3 (ipykernel)",
   "language": "python",
   "name": "python3"
  },
  "language_info": {
   "codemirror_mode": {
    "name": "ipython",
    "version": 3
   },
   "file_extension": ".py",
   "mimetype": "text/x-python",
   "name": "python",
   "nbconvert_exporter": "python",
   "pygments_lexer": "ipython3",
   "version": "3.11.7"
  }
 },
 "nbformat": 4,
 "nbformat_minor": 5
}

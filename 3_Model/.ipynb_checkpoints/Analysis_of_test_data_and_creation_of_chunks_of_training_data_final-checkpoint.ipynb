{
 "cells": [
  {
   "cell_type": "markdown",
   "metadata": {},
   "source": [
    "# Analyze the test data and create chunks of the toxic training data"
   ]
  },
  {
   "cell_type": "code",
   "execution_count": 1,
   "metadata": {
    "id": "ELKDv8_wYPUK"
   },
   "outputs": [],
   "source": [
    "### Load libraries and datasets"
   ]
  },
  {
   "cell_type": "code",
   "execution_count": null,
   "metadata": {
    "colab": {
     "base_uri": "https://localhost:8080/"
    },
    "id": "G41zQlOVWyGm",
    "outputId": "32612dae-7e1d-458d-f35c-d1726f820248"
   },
   "outputs": [
    {
     "name": "stdout",
     "output_type": "stream",
     "text": [
      "Mounted at /content/drive\n"
     ]
    }
   ],
   "source": [
    "# Get access to Google Drive\n",
    "from google.colab import drive\n",
    "drive.mount('/content/drive')"
   ]
  },
  {
   "cell_type": "code",
   "execution_count": null,
   "metadata": {
    "_cell_guid": "b1076dfc-b9ad-4769-8c92-a6c4dae69d19",
    "_uuid": "8f2839f25d086af736a60e9eeb907d3b93b6e0e5",
    "execution": {
     "iopub.execute_input": "2025-01-22T20:00:59.630626Z",
     "iopub.status.busy": "2025-01-22T20:00:59.630344Z",
     "iopub.status.idle": "2025-01-22T20:01:01.267120Z",
     "shell.execute_reply": "2025-01-22T20:01:01.265371Z",
     "shell.execute_reply.started": "2025-01-22T20:00:59.630601Z"
    },
    "id": "Uw8-gJIuWeUE"
   },
   "outputs": [],
   "source": [
    "import numpy as np\n",
    "import pandas as pd"
   ]
  },
  {
   "cell_type": "code",
   "execution_count": null,
   "metadata": {
    "execution": {
     "iopub.execute_input": "2025-01-22T20:36:10.327620Z",
     "iopub.status.busy": "2025-01-22T20:36:10.327284Z",
     "iopub.status.idle": "2025-01-22T20:36:12.001197Z",
     "shell.execute_reply": "2025-01-22T20:36:12.000053Z",
     "shell.execute_reply.started": "2025-01-22T20:36:10.327587Z"
    },
    "id": "IV8fQWq4WeUI"
   },
   "outputs": [],
   "source": [
    "# Load training dataset\n",
    "df = pd.read_csv('/content/drive/MyDrive/JigsawProject/jigsaw-multilingual-toxic-comment-classification/jigsaw-toxic-comment-train.csv')\n",
    "\n",
    "# Load test dataset\n",
    "test = pd.read_csv('/content/drive/MyDrive/JigsawProject/jigsaw-multilingual-toxic-comment-classification/test.csv')\n"
   ]
  },
  {
   "cell_type": "markdown",
   "metadata": {
    "id": "nuge-a53WeUI"
   },
   "source": [
    "## 1. Test data analysis\n",
    "\n",
    "The test data is comment texts that are written in several non-English languages.\n",
    "\n",
    "First, we want to find out, which languages are represented in the test data."
   ]
  },
  {
   "cell_type": "code",
   "execution_count": null,
   "metadata": {
    "colab": {
     "base_uri": "https://localhost:8080/"
    },
    "id": "rHklHAb7WeUK",
    "outputId": "88991e74-d7ce-4e5f-fcf2-00fd01636c6f"
   },
   "outputs": [
    {
     "name": "stdout",
     "output_type": "stream",
     "text": [
      "   id                                            content lang\n",
      "0   0  Doctor Who adlı viki başlığına 12. doctor olar...   tr\n",
      "1   1   Вполне возможно, но я пока не вижу необходимо...   ru\n",
      "2   2  Quindi tu sei uno di quelli   conservativi  , ...   it\n",
      "3   3  Malesef gerçekleştirilmedi ancak şöyle bir şey...   tr\n",
      "4   4  :Resim:Seldabagcan.jpg resminde kaynak sorunu ...   tr\n"
     ]
    }
   ],
   "source": [
    "# Check test dataset\n",
    "print(test.head())"
   ]
  },
  {
   "cell_type": "code",
   "execution_count": null,
   "metadata": {
    "colab": {
     "base_uri": "https://localhost:8080/"
    },
    "id": "Mtb7KERuWeUL",
    "outputId": "d231c453-e953-4183-a39d-a2ed5f1dd82c"
   },
   "outputs": [
    {
     "name": "stdout",
     "output_type": "stream",
     "text": [
      "['tr' 'ru' 'it' 'fr' 'pt' 'es']\n"
     ]
    }
   ],
   "source": [
    "# Get unique entries in column 'lang' (= the different languages)\n",
    "unique_langs = test['lang'].unique()\n",
    "\n",
    "# Print the languages\n",
    "print(unique_langs)"
   ]
  },
  {
   "cell_type": "code",
   "execution_count": null,
   "metadata": {
    "colab": {
     "base_uri": "https://localhost:8080/"
    },
    "id": "3fFzI88WWeUL",
    "outputId": "4c1d7d5e-8d35-4e76-810c-dba625984e4b"
   },
   "outputs": [
    {
     "name": "stdout",
     "output_type": "stream",
     "text": [
      "['tr', 'ru', 'it', 'fr', 'pt', 'es']\n"
     ]
    }
   ],
   "source": [
    "# Convert array to list:\n",
    "\n",
    "unique_langs_list = unique_langs.tolist()\n",
    "print(unique_langs_list)"
   ]
  },
  {
   "cell_type": "code",
   "execution_count": null,
   "metadata": {
    "colab": {
     "base_uri": "https://localhost:8080/",
     "height": 431
    },
    "id": "4IcBT-PDWeUM",
    "outputId": "7d479c6f-5af9-444d-be18-f43b09ba0f52"
   },
   "outputs": [
    {
     "data": {
      "image/png": "[encoded data removed]",
      "text/plain": [
       "<Figure size 1000x600 with 1 Axes>"
      ]
     },
     "metadata": {},
     "output_type": "display_data"
    }
   ],
   "source": [
    "# Plot the frequency of the languages\n",
    "\n",
    "import matplotlib.pyplot as plt\n",
    "\n",
    "# Count occurrence of each language\n",
    "lang_counts = test['lang'].value_counts()\n",
    "\n",
    "# Plotting the frequencies\n",
    "plt.figure(figsize=(10,6))\n",
    "lang_counts.plot(kind='bar', color='skyblue')\n",
    "plt.title('Frequency of Different Languages in test[\"lang\"]')\n",
    "plt.xlabel('Language')\n",
    "plt.ylabel('Count')\n",
    "plt.xticks(rotation=45)\n",
    "plt.show()"
   ]
  },
  {
   "cell_type": "code",
   "execution_count": null,
   "metadata": {
    "colab": {
     "base_uri": "https://localhost:8080/"
    },
    "id": "0YZrO5ThWeUN",
    "outputId": "f9f6937e-9ccf-4704-af82-e6648a62380d"
   },
   "outputs": [
    {
     "name": "stdout",
     "output_type": "stream",
     "text": [
      "Percentages of each language: \n",
      " lang\n",
      "tr    21.939447\n",
      "pt    17.256942\n",
      "ru    17.156648\n",
      "fr    17.112769\n",
      "it    13.310976\n",
      "es    13.223218\n",
      "Name: count, dtype: float64\n"
     ]
    }
   ],
   "source": [
    "# Calculate percentage of the whole dataset for each language\n",
    "lang_percentages = (lang_counts / len(test['lang'])) * 100\n",
    "\n",
    "# Print the percentages\n",
    "print(\"Percentages of each language: \\n\", lang_percentages)"
   ]
  },
  {
   "cell_type": "markdown",
   "metadata": {},
   "source": [
    "The distribution of the six languages is not entirely equal, but also not strongly skewed. We therefore decided to not perform anything to make the distribution more even."
   ]
  },
  {
   "cell_type": "markdown",
   "metadata": {
    "id": "F1yNQ-m0WeUO"
   },
   "source": [
    "Since the comments of the test dataset are not labelled (at least during the competition was still ongoing), we don't know, if the proportion of toxic comments was the same in the different languages.\n",
    "\n",
    "However, for the further procedure we will assume that this is the case.\n",
    "\n",
    "(Now, the labels for the test data are also published, but since we want to re-create the challenge from the competition, we don't want to use this information for our training and predictions.)\n"
   ]
  },
  {
   "cell_type": "markdown",
   "metadata": {},
   "source": [
    "## 2. Split the toxic training data into 22 smaller chunks\n",
    "\n",
    "To reduce problems during the data augmentation process, the toxic training data is split into 22 chunks of nearly 1,000 samples each. The augmentation process will be conducted for one chunk at a time. If an error occurrs, only the results for this chunk are lost."
   ]
  },
  {
   "cell_type": "code",
   "execution_count": null,
   "metadata": {
    "colab": {
     "base_uri": "https://localhost:8080/"
    },
    "id": "tbUuOu0HX5fs",
    "outputId": "5ff947be-3d8d-4374-d48c-b91a2478294c"
   },
   "outputs": [
    {
     "name": "stderr",
     "output_type": "stream",
     "text": [
      "/usr/local/lib/python3.11/dist-packages/numpy/core/fromnumeric.py:59: FutureWarning: 'DataFrame.swapaxes' is deprecated and will be removed in a future version. Please use 'DataFrame.transpose' instead.\n",
      "  return bound(*args, **kwds)\n"
     ]
    },
    {
     "name": "stdout",
     "output_type": "stream",
     "text": [
      "Saved df_tox_chunk_1.csv to Google Drive at /content/drive/MyDrive/JigsawProject/jigsaw-multilingual-toxic-comment-classification/df_tox_chunk_1.csv\n",
      "Saved df_tox_chunk_2.csv to Google Drive at /content/drive/MyDrive/JigsawProject/jigsaw-multilingual-toxic-comment-classification/df_tox_chunk_2.csv\n",
      "Saved df_tox_chunk_3.csv to Google Drive at /content/drive/MyDrive/JigsawProject/jigsaw-multilingual-toxic-comment-classification/df_tox_chunk_3.csv\n",
      "Saved df_tox_chunk_4.csv to Google Drive at /content/drive/MyDrive/JigsawProject/jigsaw-multilingual-toxic-comment-classification/df_tox_chunk_4.csv\n",
      "Saved df_tox_chunk_5.csv to Google Drive at /content/drive/MyDrive/JigsawProject/jigsaw-multilingual-toxic-comment-classification/df_tox_chunk_5.csv\n",
      "Saved df_tox_chunk_6.csv to Google Drive at /content/drive/MyDrive/JigsawProject/jigsaw-multilingual-toxic-comment-classification/df_tox_chunk_6.csv\n",
      "Saved df_tox_chunk_7.csv to Google Drive at /content/drive/MyDrive/JigsawProject/jigsaw-multilingual-toxic-comment-classification/df_tox_chunk_7.csv\n",
      "Saved df_tox_chunk_8.csv to Google Drive at /content/drive/MyDrive/JigsawProject/jigsaw-multilingual-toxic-comment-classification/df_tox_chunk_8.csv\n",
      "Saved df_tox_chunk_9.csv to Google Drive at /content/drive/MyDrive/JigsawProject/jigsaw-multilingual-toxic-comment-classification/df_tox_chunk_9.csv\n",
      "Saved df_tox_chunk_10.csv to Google Drive at /content/drive/MyDrive/JigsawProject/jigsaw-multilingual-toxic-comment-classification/df_tox_chunk_10.csv\n",
      "Saved df_tox_chunk_11.csv to Google Drive at /content/drive/MyDrive/JigsawProject/jigsaw-multilingual-toxic-comment-classification/df_tox_chunk_11.csv\n",
      "Saved df_tox_chunk_12.csv to Google Drive at /content/drive/MyDrive/JigsawProject/jigsaw-multilingual-toxic-comment-classification/df_tox_chunk_12.csv\n",
      "Saved df_tox_chunk_13.csv to Google Drive at /content/drive/MyDrive/JigsawProject/jigsaw-multilingual-toxic-comment-classification/df_tox_chunk_13.csv\n",
      "Saved df_tox_chunk_14.csv to Google Drive at /content/drive/MyDrive/JigsawProject/jigsaw-multilingual-toxic-comment-classification/df_tox_chunk_14.csv\n",
      "Saved df_tox_chunk_15.csv to Google Drive at /content/drive/MyDrive/JigsawProject/jigsaw-multilingual-toxic-comment-classification/df_tox_chunk_15.csv\n",
      "Saved df_tox_chunk_16.csv to Google Drive at /content/drive/MyDrive/JigsawProject/jigsaw-multilingual-toxic-comment-classification/df_tox_chunk_16.csv\n",
      "Saved df_tox_chunk_17.csv to Google Drive at /content/drive/MyDrive/JigsawProject/jigsaw-multilingual-toxic-comment-classification/df_tox_chunk_17.csv\n",
      "Saved df_tox_chunk_18.csv to Google Drive at /content/drive/MyDrive/JigsawProject/jigsaw-multilingual-toxic-comment-classification/df_tox_chunk_18.csv\n",
      "Saved df_tox_chunk_19.csv to Google Drive at /content/drive/MyDrive/JigsawProject/jigsaw-multilingual-toxic-comment-classification/df_tox_chunk_19.csv\n",
      "Saved df_tox_chunk_20.csv to Google Drive at /content/drive/MyDrive/JigsawProject/jigsaw-multilingual-toxic-comment-classification/df_tox_chunk_20.csv\n",
      "Saved df_tox_chunk_21.csv to Google Drive at /content/drive/MyDrive/JigsawProject/jigsaw-multilingual-toxic-comment-classification/df_tox_chunk_21.csv\n",
      "Saved df_tox_chunk_22.csv to Google Drive at /content/drive/MyDrive/JigsawProject/jigsaw-multilingual-toxic-comment-classification/df_tox_chunk_22.csv\n"
     ]
    }
   ],
   "source": [
    "\n",
    "# Define a function to split toxic_comments into chunks of 1000 rows\n",
    "def split_dataframe(df, chunk_size=1000):\n",
    "    return np.array_split(df, np.ceil(len(df) / chunk_size))\n",
    "\n",
    "# Split df_tox into chunks of 1000 rows\n",
    "df_chunks = split_dataframe(toxic_comments, 1000)\n",
    "\n",
    "# Define the base path to save the files on Google Drive\n",
    "base_path = '/content/drive/MyDrive/JigsawProject/jigsaw-multilingual-toxic-comment-classification/'\n",
    "\n",
    "# Loop through each chunk and save it as a .csv file on Google Drive\n",
    "for idx, chunk in enumerate(df_chunks):\n",
    "    # Create a filename for each chunk (df_tox_chunk_i.csv)\n",
    "    filename = f\"df_tox_chunk_{idx + 1}.csv\"\n",
    "\n",
    "    # Combine the base path and filename to get the full file path\n",
    "    file_path = base_path + filename\n",
    "\n",
    "    # Save the chunk to the file path on Google Drive\n",
    "    chunk.to_csv(file_path, index=False)\n",
    "    print(f\"Saved {filename} to Google Drive at {file_path}\")\n"
   ]
  }
 ],
 "metadata": {
  "colab": {
   "provenance": []
  },
  "kaggle": {
   "accelerator": "none",
   "dataSources": [
    {
     "databundleVersionId": 2703900,
     "sourceId": 19018,
     "sourceType": "competition"
    }
   ],
   "dockerImageVersionId": 30839,
   "isGpuEnabled": false,
   "isInternetEnabled": true,
   "language": "python",
   "sourceType": "notebook"
  },
  "kernelspec": {
   "display_name": "Python 3 (ipykernel)",
   "language": "python",
   "name": "python3"
  },
  "language_info": {
   "codemirror_mode": {
    "name": "ipython",
    "version": 3
   },
   "file_extension": ".py",
   "mimetype": "text/x-python",
   "name": "python",
   "nbconvert_exporter": "python",
   "pygments_lexer": "ipython3",
   "version": "3.7.4"
  }
 },
 "nbformat": 4,
 "nbformat_minor": 1
}

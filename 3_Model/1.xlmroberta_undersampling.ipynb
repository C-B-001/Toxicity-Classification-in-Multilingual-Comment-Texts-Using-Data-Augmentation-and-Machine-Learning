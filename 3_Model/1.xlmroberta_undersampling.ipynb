{
 "cells": [
  {
   "cell_type": "markdown",
   "metadata": {},
   "source": [
    "## Import necessary libraries\n"
   ]
  },
  {
   "cell_type": "code",
   "execution_count": 1,
   "metadata": {
    "execution": {
     "iopub.execute_input": "2025-01-28T08:20:01.428943Z",
     "iopub.status.busy": "2025-01-28T08:20:01.428562Z",
     "iopub.status.idle": "2025-01-28T08:20:23.010085Z",
     "shell.execute_reply": "2025-01-28T08:20:23.009105Z",
     "shell.execute_reply.started": "2025-01-28T08:20:01.428908Z"
    }
   },
   "outputs": [],
   "source": [
    "import pandas as pd\n",
    "import torch\n",
    "from torch.utils.data import Dataset, DataLoader\n",
    "from transformers import AutoTokenizer, AutoModelForSequenceClassification, Trainer, TrainingArguments\n",
    "from sklearn.metrics import roc_auc_score\n",
    "from sklearn.model_selection import train_test_split\n",
    "\n",
    "from transformers import (\n",
    "    AutoTokenizer,\n",
    "    AutoModelForSequenceClassification,\n",
    "    Trainer,\n",
    "    TrainingArguments\n",
    ")\n",
    "from sklearn.metrics import accuracy_score\n",
    "from scipy.special import softmax\n",
    "import numpy as np"
   ]
  },
  {
   "cell_type": "code",
   "execution_count": 2,
   "metadata": {
    "execution": {
     "iopub.execute_input": "2025-01-28T08:20:24.659522Z",
     "iopub.status.busy": "2025-01-28T08:20:24.658860Z",
     "iopub.status.idle": "2025-01-28T08:20:24.734258Z",
     "shell.execute_reply": "2025-01-28T08:20:24.733288Z",
     "shell.execute_reply.started": "2025-01-28T08:20:24.659490Z"
    }
   },
   "outputs": [
    {
     "name": "stdout",
     "output_type": "stream",
     "text": [
      "cuda\n"
     ]
    }
   ],
   "source": [
    "device = torch.device(\"cuda\" if torch.cuda.is_available() else \"cpu\")\n",
    "print(device)"
   ]
  },
  {
   "cell_type": "code",
   "execution_count": 4,
   "metadata": {
    "execution": {
     "iopub.execute_input": "2025-01-28T08:21:46.634116Z",
     "iopub.status.busy": "2025-01-28T08:21:46.633706Z",
     "iopub.status.idle": "2025-01-28T08:21:47.813244Z",
     "shell.execute_reply": "2025-01-28T08:21:47.812357Z",
     "shell.execute_reply.started": "2025-01-28T08:21:46.634083Z"
    }
   },
   "outputs": [
    {
     "name": "stdout",
     "output_type": "stream",
     "text": [
      "Loading dataset...\n",
      "Training data size ,  223549\n",
      "Validation Data Size: 8000\n"
     ]
    }
   ],
   "source": [
    "# Load Dataset\n",
    "print(\"Loading dataset...\")\n",
    "df = pd.read_csv(\"/kaggle/input/jigsaw-multilingual-toxic-comment-classification/jigsaw-toxic-comment-train.csv\", usecols=[\"comment_text\", \"toxic\"]) # First 10k rows\n",
    "print(\"Training data size , \", len(df))\n",
    "validation_df = pd.read_csv(\"/kaggle/input/jigsaw-multilingual-toxic-comment-classification/validation.csv\")\n",
    "print(\"Validation Data Size:\", len(validation_df))"
   ]
  },
  {
   "cell_type": "markdown",
   "metadata": {},
   "source": [
    "## undersampling and shuffling\n",
    " Since non-toxic comments dominate, undersampling is applied. It selects an equal number of non-toxic comments to match the toxic ones. The dataset is then shuffled to avoid order bias."
   ]
  },
  {
   "cell_type": "code",
   "execution_count": 5,
   "metadata": {
    "execution": {
     "iopub.execute_input": "2025-01-28T08:22:02.215660Z",
     "iopub.status.busy": "2025-01-28T08:22:02.215320Z",
     "iopub.status.idle": "2025-01-28T08:22:02.265866Z",
     "shell.execute_reply": "2025-01-28T08:22:02.265004Z",
     "shell.execute_reply.started": "2025-01-28T08:22:02.215633Z"
    }
   },
   "outputs": [
    {
     "name": "stdout",
     "output_type": "stream",
     "text": [
      "Original dataset size: 223549\n",
      "Balanced dataset size: 42768\n",
      "Toxic comments: 21384\n",
      "Non-toxic comments: 21384\n",
      "vald Original dataset size: 8000\n",
      "vald Toxic comments: 1230\n",
      "vald Non-toxic comments: 6770\n"
     ]
    }
   ],
   "source": [
    "# Separate toxic and non-toxic comments\n",
    "toxic_comments = df[df['toxic'] == 1]\n",
    "non_toxic_comments = df[df['toxic'] == 0]\n",
    "\n",
    "toxic_comments_val = validation_df[validation_df['toxic'] == 1]\n",
    "non_toxic_comments_val = validation_df[validation_df['toxic'] == 0]\n",
    "\n",
    "# Find the number of toxic comments\n",
    "toxic_count = len(toxic_comments)\n",
    "toxic_count_val = len(toxic_comments_val)\n",
    "\n",
    "# Randomly undersample non-toxic comments to match the number of toxic comments\n",
    "non_toxic_sample = non_toxic_comments.sample(toxic_count, random_state=42)\n",
    "non_toxic_sample_val = non_toxic_comments_val.sample(toxic_count_val, random_state=42)\n",
    "\n",
    "\n",
    "\n",
    "# Combine the toxic and undersampled non-toxic comments\n",
    "balanced_df = pd.concat([toxic_comments, non_toxic_sample])\n",
    "\n",
    "# Shuffle the resulting DataFrame\n",
    "balanced_df = balanced_df.sample(frac=1, random_state=42).reset_index(drop=True)\n",
    "\n",
    "print(f\"Original dataset size: {len(df)}\")\n",
    "print(f\"Balanced dataset size: {len(balanced_df)}\")\n",
    "\n",
    "print(f\"Toxic comments: {len(balanced_df[balanced_df['toxic'] == 1])}\")\n",
    "print(f\"Non-toxic comments: {len(balanced_df[balanced_df['toxic'] == 0])}\")\n",
    "\n",
    "print(f\"vald Original dataset size: {len(validation_df)}\")\n",
    "\n",
    "print(f\"vald Toxic comments: {len(validation_df[validation_df['toxic'] == 1])}\")\n",
    "print(f\"vald Non-toxic comments: {len(validation_df[validation_df['toxic'] == 0])}\")\n",
    "# Save or continue with the balanced dataset\n"
   ]
  },
  {
   "cell_type": "markdown",
   "metadata": {},
   "source": [
    "## xlm-roberta tokenizer\n",
    "we loaded the pre-trained tokenizer, which converts text into model-compatible tokens. This ensures proper tokenization, padding, and truncation for efficient processing."
   ]
  },
  {
   "cell_type": "code",
   "execution_count": 20,
   "metadata": {
    "execution": {
     "iopub.execute_input": "2025-01-28T09:31:02.818841Z",
     "iopub.status.busy": "2025-01-28T09:31:02.818501Z",
     "iopub.status.idle": "2025-01-28T09:31:05.720054Z",
     "shell.execute_reply": "2025-01-28T09:31:05.719360Z",
     "shell.execute_reply.started": "2025-01-28T09:31:02.818816Z"
    }
   },
   "outputs": [
    {
     "name": "stdout",
     "output_type": "stream",
     "text": [
      "Loading tokenizer...\n"
     ]
    },
    {
     "data": {
      "application/vnd.jupyter.widget-view+json": {
       "model_id": "c5a2735eb6574946863c966138c65f28",
       "version_major": 2,
       "version_minor": 0
      },
      "text/plain": [
       "tokenizer_config.json:   0%|          | 0.00/25.0 [00:00<?, ?B/s]"
      ]
     },
     "metadata": {},
     "output_type": "display_data"
    },
    {
     "data": {
      "application/vnd.jupyter.widget-view+json": {
       "model_id": "f85fd4baf9f247d69b8821b2c9e3ba7f",
       "version_major": 2,
       "version_minor": 0
      },
      "text/plain": [
       "config.json:   0%|          | 0.00/615 [00:00<?, ?B/s]"
      ]
     },
     "metadata": {},
     "output_type": "display_data"
    },
    {
     "data": {
      "application/vnd.jupyter.widget-view+json": {
       "model_id": "be45687230204d958155227ee42e72f0",
       "version_major": 2,
       "version_minor": 0
      },
      "text/plain": [
       "sentencepiece.bpe.model:   0%|          | 0.00/5.07M [00:00<?, ?B/s]"
      ]
     },
     "metadata": {},
     "output_type": "display_data"
    },
    {
     "data": {
      "application/vnd.jupyter.widget-view+json": {
       "model_id": "719655fd79de4d20874f560753d697a4",
       "version_major": 2,
       "version_minor": 0
      },
      "text/plain": [
       "tokenizer.json:   0%|          | 0.00/9.10M [00:00<?, ?B/s]"
      ]
     },
     "metadata": {},
     "output_type": "display_data"
    }
   ],
   "source": [
    "# Load Tokenizer\n",
    "print(\"Loading tokenizer...\")\n",
    "MODEL_NAME = \"xlm-roberta-base\"  # Pretrained multilingual model\n",
    "tokenizer = AutoTokenizer.from_pretrained(MODEL_NAME)"
   ]
  },
  {
   "cell_type": "markdown",
   "metadata": {},
   "source": [
    "## Token Distribution\n",
    "Token distribution was analyzed using the XLM-RoBERTa tokenizer. Histograms were plotted for overall, toxic, and non-toxic comments to compare text length variations. This ensured all comments fit within the 512-token limit."
   ]
  },
  {
   "cell_type": "code",
   "execution_count": 21,
   "metadata": {
    "execution": {
     "iopub.execute_input": "2025-01-28T09:31:06.094183Z",
     "iopub.status.busy": "2025-01-28T09:31:06.093912Z",
     "iopub.status.idle": "2025-01-28T09:31:21.538074Z",
     "shell.execute_reply": "2025-01-28T09:31:21.537258Z",
     "shell.execute_reply.started": "2025-01-28T09:31:06.094161Z"
    }
   },
   "outputs": [
    {
     "name": "stderr",
     "output_type": "stream",
     "text": [
      "Token indices sequence length is longer than the specified maximum sequence length for this model (723 > 512). Running this sequence through the model will result in indexing errors\n"
     ]
    },
    {
     "data": {
      "image/png": "[encoded data removed]",
      "text/plain": [
       "<Figure size 1200x600 with 1 Axes>"
      ]
     },
     "metadata": {},
     "output_type": "display_data"
    },
    {
     "data": {
      "image/png": "[encoded data removed]",
      "text/plain": [
       "<Figure size 1200x600 with 1 Axes>"
      ]
     },
     "metadata": {},
     "output_type": "display_data"
    }
   ],
   "source": [
    "import matplotlib.pyplot as plt\n",
    "from transformers import AutoTokenizer\n",
    "\n",
    "# Add a column for the number of tokens\n",
    "balanced_df['num_tokens'] = balanced_df['comment_text'].apply(\n",
    "    lambda x: len(tokenizer.tokenize(str(x)))\n",
    ")\n",
    "\n",
    "# Plot the distribution of tokens for all comments\n",
    "plt.figure(figsize=(12, 6))\n",
    "plt.hist(balanced_df['num_tokens'], bins=30, color='blue', alpha=0.7, label='All Comments')\n",
    "plt.title('Distribution of Number of Tokens in Comments (RoBERTaXLM Tokenizer)')\n",
    "plt.xlabel('Number of Tokens')\n",
    "plt.ylabel('Frequency')\n",
    "plt.legend()\n",
    "plt.show()\n",
    "\n",
    "# Separate toxic and non-toxic for comparison\n",
    "plt.figure(figsize=(12, 6))\n",
    "plt.hist(balanced_df[balanced_df['toxic'] == 1]['num_tokens'], bins=30, color='red', alpha=0.7, label='Toxic Comments')\n",
    "plt.hist(balanced_df[balanced_df['toxic'] == 0]['num_tokens'], bins=30, color='green', alpha=0.5, label='Non-Toxic Comments')\n",
    "plt.title('Comparison of Token Counts in Toxic and Non-Toxic Comments (mbert Tokenizer)')\n",
    "plt.xlabel('Number of Tokens')\n",
    "plt.ylabel('Frequency')\n",
    "plt.legend() a\n",
    "plt.show()\n",
    "\n",
    "\n",
    "\n"
   ]
  },
  {
   "cell_type": "markdown",
   "metadata": {},
   "source": [
    "## distribution in validation dataset\n",
    "Token distribution in the validation dataset was analyzed using the XLM-RoBERTa tokenizer. Histograms were plotted for overall, toxic, and non-toxic comments to compare text length variations. This ensured comments remained within the 512-token limit for model compatibility."
   ]
  },
  {
   "cell_type": "code",
   "execution_count": 22,
   "metadata": {
    "execution": {
     "iopub.execute_input": "2025-01-28T09:31:27.262047Z",
     "iopub.status.busy": "2025-01-28T09:31:27.261746Z",
     "iopub.status.idle": "2025-01-28T09:31:31.518797Z",
     "shell.execute_reply": "2025-01-28T09:31:31.518059Z",
     "shell.execute_reply.started": "2025-01-28T09:31:27.262023Z"
    }
   },
   "outputs": [
    {
     "data": {
      "image/png": "[encoded data removed]",
      "text/plain": [
       "<Figure size 1200x600 with 1 Axes>"
      ]
     },
     "metadata": {},
     "output_type": "display_data"
    },
    {
     "data": {
      "image/png": "[encoded data removed]",
      "text/plain": [
       "<Figure size 1200x600 with 1 Axes>"
      ]
     },
     "metadata": {},
     "output_type": "display_data"
    }
   ],
   "source": [
    "import matplotlib.pyplot as plt\n",
    "from transformers import AutoTokenizer\n",
    "\n",
    "# Add a column for the number of tokens\n",
    "validation_df['num_tokens'] = validation_df['comment_text'].apply(\n",
    "    lambda x: len(tokenizer.tokenize(str(x)))\n",
    ")\n",
    "\n",
    "# Plot the distribution of tokens for all comments\n",
    "plt.figure(figsize=(12, 6))\n",
    "plt.hist(validation_df['num_tokens'], bins=30, color='blue', alpha=0.7, label='All Comments')\n",
    "plt.title('Distribution of Number of Tokens in Comments (RoBERTaXLM Tokenizer)')\n",
    "plt.xlabel('Number of Tokens')\n",
    "plt.ylabel('Frequency')\n",
    "plt.legend()\n",
    "plt.show()\n",
    "\n",
    "# Separate toxic and non-toxic for comparison\n",
    "plt.figure(figsize=(12, 6))\n",
    "plt.hist(validation_df[validation_df['toxic'] == 1]['num_tokens'], bins=30, color='red', alpha=0.7, label='Toxic Comments')\n",
    "plt.hist(validation_df[validation_df['toxic'] == 0]['num_tokens'], bins=30, color='green', alpha=0.5, label='Non-Toxic Comments')\n",
    "plt.title('Comparison of Token Counts in Toxic and Non-Toxic Comments (mbert Tokenizer)')\n",
    "plt.xlabel('Number of Tokens')\n",
    "plt.ylabel('Frequency')\n",
    "plt.legend()\n",
    "plt.show()\n"
   ]
  },
  {
   "cell_type": "markdown",
   "metadata": {},
   "source": [
    "## filtering\n",
    "Comments exceeding 510 tokens were filtered out to comply with the model’s 512-token limit. The dataset size before and after filtering was recorded, along with the number of removed comments."
   ]
  },
  {
   "cell_type": "code",
   "execution_count": 23,
   "metadata": {
    "execution": {
     "iopub.execute_input": "2025-01-28T09:31:35.117743Z",
     "iopub.status.busy": "2025-01-28T09:31:35.117374Z",
     "iopub.status.idle": "2025-01-28T09:31:49.821836Z",
     "shell.execute_reply": "2025-01-28T09:31:49.821106Z",
     "shell.execute_reply.started": "2025-01-28T09:31:35.117712Z"
    }
   },
   "outputs": [
    {
     "name": "stdout",
     "output_type": "stream",
     "text": [
      "Original dataset size: 42768\n",
      "Filtered dataset size: 41696\n",
      "Number of comments removed: 1072\n"
     ]
    }
   ],
   "source": [
    "\n",
    "# Add a column for the number of tokens\n",
    "balanced_df['num_tokens'] = balanced_df['comment_text'].apply(\n",
    "    lambda x: len(tokenizer.tokenize(str(x)))\n",
    ")\n",
    "\n",
    "# Filter out comments with tokens exceeding 510\n",
    "filtered_df = balanced_df[balanced_df['num_tokens'] <= 510]\n",
    "\n",
    "# Print statistics\n",
    "print(f\"Original dataset size: {len(balanced_df)}\")\n",
    "print(f\"Filtered dataset size: {len(filtered_df)}\")\n",
    "print(f\"Number of comments removed: {len(balanced_df) - len(filtered_df)}\")"
   ]
  },
  {
   "cell_type": "markdown",
   "metadata": {},
   "source": [
    "## simillarily for validation dataset"
   ]
  },
  {
   "cell_type": "code",
   "execution_count": 24,
   "metadata": {
    "execution": {
     "iopub.execute_input": "2025-01-28T09:31:53.234701Z",
     "iopub.status.busy": "2025-01-28T09:31:53.234359Z",
     "iopub.status.idle": "2025-01-28T09:31:56.962081Z",
     "shell.execute_reply": "2025-01-28T09:31:56.961377Z",
     "shell.execute_reply.started": "2025-01-28T09:31:53.234676Z"
    }
   },
   "outputs": [
    {
     "name": "stdout",
     "output_type": "stream",
     "text": [
      "vald Original dataset size: 8000\n",
      "vald Filtered dataset size: 7999\n",
      "vald Number of comments removed: 1\n"
     ]
    }
   ],
   "source": [
    "\n",
    "# Add a column for the number of tokens\n",
    "validation_df['num_tokens'] = validation_df['comment_text'].apply(\n",
    "    lambda x: len(tokenizer.tokenize(str(x)))\n",
    ")\n",
    "\n",
    "# Filter out comments with tokens exceeding 510\n",
    "vald_filtered_df = validation_df[validation_df['num_tokens'] <= 510]\n",
    "\n",
    "# Print statistics\n",
    "print(f\"vald Original dataset size: {len(validation_df)}\")\n",
    "print(f\"vald Filtered dataset size: {len(vald_filtered_df)}\")\n",
    "print(f\"vald Number of comments removed: {len(validation_df) - len(vald_filtered_df)}\")"
   ]
  },
  {
   "cell_type": "markdown",
   "metadata": {},
   "source": [
    "##  PyTorch dataset \n",
    "A PyTorch dataset class was created to tokenize comments, pad/truncate to 512 tokens, and return inputs as tensors for model training."
   ]
  },
  {
   "cell_type": "code",
   "execution_count": 25,
   "metadata": {
    "execution": {
     "iopub.execute_input": "2025-01-28T09:32:02.844868Z",
     "iopub.status.busy": "2025-01-28T09:32:02.844555Z",
     "iopub.status.idle": "2025-01-28T09:32:02.850617Z",
     "shell.execute_reply": "2025-01-28T09:32:02.849703Z",
     "shell.execute_reply.started": "2025-01-28T09:32:02.844844Z"
    }
   },
   "outputs": [],
   "source": [
    "class ToxicDataset(Dataset):\n",
    "    def __init__(self, texts, labels, tokenizer, max_length=512):\n",
    "        self.texts = texts\n",
    "        self.labels = labels\n",
    "        self.tokenizer = tokenizer\n",
    "        self.max_length = max_length\n",
    "\n",
    "    def __len__(self):\n",
    "        return len(self.texts)\n",
    "\n",
    "    def __getitem__(self, idx):\n",
    "        text = str(self.texts[idx])\n",
    "        label = self.labels[idx]\n",
    "\n",
    "        encoding = self.tokenizer(\n",
    "            text,\n",
    "            truncation=True,\n",
    "            padding='max_length',\n",
    "            max_length=self.max_length,\n",
    "            return_tensors='pt'  # returns PyTorch tensors\n",
    "        )\n",
    "\n",
    "        # Convert batch dimension to single examples\n",
    "        item = {key: val.squeeze(0) for key, val in encoding.items()}\n",
    "        item[\"labels\"] = torch.tensor(label, dtype=torch.long)\n",
    "\n",
    "        return item"
   ]
  },
  {
   "cell_type": "markdown",
   "metadata": {},
   "source": [
    "## training validation testing dataset\n",
    "Training and validation datasets were created using the ToxicDataset class."
   ]
  },
  {
   "cell_type": "code",
   "execution_count": 26,
   "metadata": {
    "execution": {
     "iopub.execute_input": "2025-01-28T09:32:09.687247Z",
     "iopub.status.busy": "2025-01-28T09:32:09.686929Z",
     "iopub.status.idle": "2025-01-28T09:32:09.695105Z",
     "shell.execute_reply": "2025-01-28T09:32:09.694127Z",
     "shell.execute_reply.started": "2025-01-28T09:32:09.687219Z"
    }
   },
   "outputs": [],
   "source": [
    "train_texts = filtered_df[\"comment_text\"].tolist()\n",
    "train_labels = filtered_df[\"toxic\"].tolist()\n",
    "\n",
    "val_texts = validation_df[\"comment_text\"].tolist()\n",
    "val_labels = validation_df[\"toxic\"].tolist()\n",
    "\n",
    "train_dataset = ToxicDataset(train_texts, train_labels, tokenizer, max_length=512)\n",
    "val_dataset   = ToxicDataset(val_texts,   val_labels,   tokenizer, max_length=512)\n"
   ]
  },
  {
   "cell_type": "markdown",
   "metadata": {},
   "source": [
    "## Metrics define\n",
    "A metrics function was defined to evaluate model performance. It computes accuracy and ROC-AUC, converting logits to probabilities using softmax. Predictions are derived using argmax, and scores are calculated using accuracy_score and roc_auc_score."
   ]
  },
  {
   "cell_type": "code",
   "execution_count": 27,
   "metadata": {
    "execution": {
     "iopub.execute_input": "2025-01-28T09:32:13.514844Z",
     "iopub.status.busy": "2025-01-28T09:32:13.514509Z",
     "iopub.status.idle": "2025-01-28T09:32:13.519455Z",
     "shell.execute_reply": "2025-01-28T09:32:13.518487Z",
     "shell.execute_reply.started": "2025-01-28T09:32:13.514814Z"
    }
   },
   "outputs": [],
   "source": [
    "def compute_metrics(eval_pred):\n",
    "    \"\"\"\n",
    "    Returns a dictionary of evaluation metrics. \n",
    "    Calculates both accuracy and ROC-AUC.\n",
    "    \"\"\"\n",
    "    logits, labels = eval_pred\n",
    "    # Convert logits to probabilities via softmax\n",
    "    probs = softmax(logits, axis=1)\n",
    "    \n",
    "    # Predicted class is argmax\n",
    "    preds = np.argmax(probs, axis=1)\n",
    "\n",
    "    acc = accuracy_score(labels, preds)\n",
    "    # For roc_auc, we use the probability of the \"positive\" class (index = 1)\n",
    "    roc = roc_auc_score(labels, probs[:, 1])\n",
    "    \n",
    "    return {\n",
    "        \"accuracy\": acc,\n",
    "        \"roc_auc\": roc\n",
    "    }"
   ]
  },
  {
   "cell_type": "markdown",
   "metadata": {},
   "source": [
    "## Training arguments \n",
    "The XLM-RoBERTa model was initialized for binary classification. Training arguments defined batch size, learning rate, and evaluation strategy. The Trainer API handled training and evaluation efficiently."
   ]
  },
  {
   "cell_type": "code",
   "execution_count": 28,
   "metadata": {
    "execution": {
     "iopub.execute_input": "2025-01-28T09:32:45.775987Z",
     "iopub.status.busy": "2025-01-28T09:32:45.775665Z",
     "iopub.status.idle": "2025-01-28T09:32:51.744913Z",
     "shell.execute_reply": "2025-01-28T09:32:51.743974Z",
     "shell.execute_reply.started": "2025-01-28T09:32:45.775962Z"
    }
   },
   "outputs": [
    {
     "data": {
      "application/vnd.jupyter.widget-view+json": {
       "model_id": "8ba1ba9b492345ec9e3ce5ff3b055fcc",
       "version_major": 2,
       "version_minor": 0
      },
      "text/plain": [
       "model.safetensors:   0%|          | 0.00/1.12G [00:00<?, ?B/s]"
      ]
     },
     "metadata": {},
     "output_type": "display_data"
    },
    {
     "name": "stderr",
     "output_type": "stream",
     "text": [
      "Some weights of XLMRobertaForSequenceClassification were not initialized from the model checkpoint at xlm-roberta-base and are newly initialized: ['classifier.dense.bias', 'classifier.dense.weight', 'classifier.out_proj.bias', 'classifier.out_proj.weight']\n",
      "You should probably TRAIN this model on a down-stream task to be able to use it for predictions and inference.\n",
      "/usr/local/lib/python3.10/dist-packages/transformers/training_args.py:1575: FutureWarning: `evaluation_strategy` is deprecated and will be removed in version 4.46 of 🤗 Transformers. Use `eval_strategy` instead\n",
      "  warnings.warn(\n",
      "<ipython-input-28-cef6c7e7771c>:25: FutureWarning: `tokenizer` is deprecated and will be removed in version 5.0.0 for `Trainer.__init__`. Use `processing_class` instead.\n",
      "  trainer = Trainer(\n"
     ]
    }
   ],
   "source": [
    "model = AutoModelForSequenceClassification.from_pretrained(MODEL_NAME, num_labels=2)\n",
    "model.to(device)\n",
    "\n",
    "\n",
    "training_args = TrainingArguments(\n",
    "    output_dir=\"./xlmr_model\",\n",
    "    evaluation_strategy=\"epoch\",       # Evaluate every epoch\n",
    "    save_strategy=\"epoch\",             # Save checkpoint every epoch\n",
    "    num_train_epochs=2,                # You can adjust this\n",
    "    per_device_train_batch_size=8,     # Adjust based on GPU memory\n",
    "    per_device_eval_batch_size=8,      # Same as above\n",
    "    logging_dir=\"./logs\",              # Directory for logs\n",
    "    logging_steps=100,                 \n",
    "    load_best_model_at_end=True,       # Loads best model found during eval\n",
    "    metric_for_best_model=\"roc_auc\",   # Choose metric to select best model\n",
    "    greater_is_better=True,            # Higher metric is better\n",
    "    seed=42,\n",
    "    learning_rate=2e-5,\n",
    "    report_to=[\"none\"]\n",
    ")\n",
    "\n",
    "# =========================================\n",
    "# 9. Initialize Trainer\n",
    "# =========================================\n",
    "trainer = Trainer(\n",
    "    model=model,\n",
    "    args=training_args,\n",
    "    train_dataset=train_dataset,\n",
    "    eval_dataset=val_dataset,\n",
    "    tokenizer=tokenizer,\n",
    "    compute_metrics=compute_metrics\n",
    ")\n"
   ]
  },
  {
   "cell_type": "markdown",
   "metadata": {},
   "source": [
    "## Training the model\n",
    "The model was trained using the Trainer API, optimizing weights based on the defined training arguments and dataset."
   ]
  },
  {
   "cell_type": "code",
   "execution_count": 29,
   "metadata": {
    "execution": {
     "iopub.execute_input": "2025-01-28T09:32:54.605366Z",
     "iopub.status.busy": "2025-01-28T09:32:54.604881Z",
     "iopub.status.idle": "2025-01-28T11:12:20.245798Z",
     "shell.execute_reply": "2025-01-28T11:12:20.245066Z",
     "shell.execute_reply.started": "2025-01-28T09:32:54.605328Z"
    }
   },
   "outputs": [
    {
     "name": "stderr",
     "output_type": "stream",
     "text": [
      "/usr/local/lib/python3.10/dist-packages/torch/nn/parallel/_functions.py:71: UserWarning: Was asked to gather along dimension 0, but all input tensors were scalars; will instead unsqueeze and return a vector.\n",
      "  warnings.warn(\n"
     ]
    },
    {
     "data": {
      "text/html": [
       "\n",
       "    <div>\n",
       "      \n",
       "      <progress value='5212' max='5212' style='width:300px; height:20px; vertical-align: middle;'></progress>\n",
       "      [5212/5212 1:39:23, Epoch 2/2]\n",
       "    </div>\n",
       "    <table border=\"1\" class=\"dataframe\">\n",
       "  <thead>\n",
       " <tr style=\"text-align: left;\">\n",
       "      <th>Epoch</th>\n",
       "      <th>Training Loss</th>\n",
       "      <th>Validation Loss</th>\n",
       "      <th>Accuracy</th>\n",
       "      <th>Roc Auc</th>\n",
       "    </tr>\n",
       "  </thead>\n",
       "  <tbody>\n",
       "    <tr>\n",
       "      <td>1</td>\n",
       "      <td>0.190200</td>\n",
       "      <td>0.330726</td>\n",
       "      <td>0.873000</td>\n",
       "      <td>0.911624</td>\n",
       "    </tr>\n",
       "    <tr>\n",
       "      <td>2</td>\n",
       "      <td>0.180200</td>\n",
       "      <td>0.461748</td>\n",
       "      <td>0.868625</td>\n",
       "      <td>0.906466</td>\n",
       "    </tr>\n",
       "  </tbody>\n",
       "</table><p>"
      ],
      "text/plain": [
       "<IPython.core.display.HTML object>"
      ]
     },
     "metadata": {},
     "output_type": "display_data"
    },
    {
     "name": "stderr",
     "output_type": "stream",
     "text": [
      "/usr/local/lib/python3.10/dist-packages/torch/nn/parallel/_functions.py:71: UserWarning: Was asked to gather along dimension 0, but all input tensors were scalars; will instead unsqueeze and return a vector.\n",
      "  warnings.warn(\n",
      "/usr/local/lib/python3.10/dist-packages/torch/nn/parallel/_functions.py:71: UserWarning: Was asked to gather along dimension 0, but all input tensors were scalars; will instead unsqueeze and return a vector.\n",
      "  warnings.warn(\n"
     ]
    },
    {
     "data": {
      "text/plain": [
       "TrainOutput(global_step=5212, training_loss=0.20642901114198856, metrics={'train_runtime': 5964.9505, 'train_samples_per_second': 13.98, 'train_steps_per_second': 0.874, 'total_flos': 2.194135712858112e+16, 'train_loss': 0.20642901114198856, 'epoch': 2.0})"
      ]
     },
     "execution_count": 29,
     "metadata": {},
     "output_type": "execute_result"
    }
   ],
   "source": [
    "trainer.train()\n"
   ]
  },
  {
   "cell_type": "markdown",
   "metadata": {},
   "source": [
    "## Evaluation of the model"
   ]
  },
  {
   "cell_type": "code",
   "execution_count": 30,
   "metadata": {
    "execution": {
     "iopub.execute_input": "2025-01-28T11:13:39.601104Z",
     "iopub.status.busy": "2025-01-28T11:13:39.600754Z",
     "iopub.status.idle": "2025-01-28T11:16:25.910686Z",
     "shell.execute_reply": "2025-01-28T11:16:25.909833Z",
     "shell.execute_reply.started": "2025-01-28T11:13:39.601078Z"
    }
   },
   "outputs": [
    {
     "name": "stderr",
     "output_type": "stream",
     "text": [
      "/usr/local/lib/python3.10/dist-packages/torch/nn/parallel/_functions.py:71: UserWarning: Was asked to gather along dimension 0, but all input tensors were scalars; will instead unsqueeze and return a vector.\n",
      "  warnings.warn(\n"
     ]
    },
    {
     "data": {
      "text/html": [
       "\n",
       "    <div>\n",
       "      \n",
       "      <progress value='500' max='500' style='width:300px; height:20px; vertical-align: middle;'></progress>\n",
       "      [500/500 02:45]\n",
       "    </div>\n",
       "    "
      ],
      "text/plain": [
       "<IPython.core.display.HTML object>"
      ]
     },
     "metadata": {},
     "output_type": "display_data"
    },
    {
     "name": "stdout",
     "output_type": "stream",
     "text": [
      "Evaluation Results: {'eval_loss': 0.3307260274887085, 'eval_accuracy': 0.873, 'eval_roc_auc': 0.9116240948229277, 'eval_runtime': 166.3025, 'eval_samples_per_second': 48.105, 'eval_steps_per_second': 3.007, 'epoch': 2.0}\n"
     ]
    }
   ],
   "source": [
    "eval_results = trainer.evaluate()\n",
    "print(\"Evaluation Results:\", eval_results)"
   ]
  },
  {
   "cell_type": "markdown",
   "metadata": {},
   "source": [
    "The model achieved an evaluation loss of 0.3307, with an accuracy of 87.3% and an ROC-AUC of 0.9116, indicating strong classification performance. The evaluation ran in 166.3 seconds, processing 48.1 samples per second over 2 epochs."
   ]
  },
  {
   "cell_type": "markdown",
   "metadata": {},
   "source": [
    "## saving the model"
   ]
  },
  {
   "cell_type": "code",
   "execution_count": 31,
   "metadata": {
    "execution": {
     "iopub.execute_input": "2025-01-28T11:16:27.569971Z",
     "iopub.status.busy": "2025-01-28T11:16:27.569661Z",
     "iopub.status.idle": "2025-01-28T11:16:30.443460Z",
     "shell.execute_reply": "2025-01-28T11:16:30.442484Z",
     "shell.execute_reply.started": "2025-01-28T11:16:27.569947Z"
    }
   },
   "outputs": [],
   "source": [
    "trainer.save_model(\"./xlmr_lowlrate\")\n"
   ]
  }
 ],
 "metadata": {
  "kaggle": {
   "accelerator": "tpu1vmV38",
   "dataSources": [
    {
     "databundleVersionId": 2703900,
     "sourceId": 19018,
     "sourceType": "competition"
    }
   ],
   "dockerImageVersionId": 30841,
   "isGpuEnabled": false,
   "isInternetEnabled": true,
   "language": "python",
   "sourceType": "notebook"
  },
  "kernelspec": {
   "display_name": "Python 3 (ipykernel)",
   "language": "python",
   "name": "python3"
  },
  "language_info": {
   "codemirror_mode": {
    "name": "ipython",
    "version": 3
   },
   "file_extension": ".py",
   "mimetype": "text/x-python",
   "name": "python",
   "nbconvert_exporter": "python",
   "pygments_lexer": "ipython3",
   "version": "3.11.7"
  }
 },
 "nbformat": 4,
 "nbformat_minor": 4
}

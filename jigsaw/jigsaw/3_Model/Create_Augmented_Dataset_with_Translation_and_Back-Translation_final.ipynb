{
 "cells": [
  {
   "cell_type": "markdown",
   "id": "41a0ca81",
   "metadata": {},
   "source": [
    "# Create Different Augmented Datasets from the Chunks with Translations and Back-Translations"
   ]
  },
  {
   "cell_type": "code",
   "execution_count": 1,
   "id": "091baaf2",
   "metadata": {},
   "outputs": [
    {
     "name": "stdout",
     "output_type": "stream",
     "text": [
      "CSV files have been concatenated and saved as 'back-trans-1-15.csv'.\n"
     ]
    }
   ],
   "source": [
    "# Import libraries\n",
    "\n",
    "import pandas as pd\n",
    "import os\n",
    "\n",
    "# Get the .csv files of the chunks that where the translation and back-translation was successful (chunk 1 to 15 without 3 and 8)\n",
    "csv_files = [f\"chunk-{str(i).zfill(2)}_.csv\" if i != 3 and i != 8 else f\"chunk-{str(i).zfill(2)}.csv\" for i in range(1, 16)]\n",
    "\n",
    "# Read and concatenate all .csv files into one DataFrame\n",
    "df_list = [pd.read_csv(file) for file in csv_files if os.path.exists(file)]\n",
    "back_trans_1_15 = pd.concat(df_list, ignore_index=True)\n",
    "\n",
    "# Save the concatenated DataFrame to a new .csv file\n",
    "# This file contains all translations and back-translations, but not yet in the correct format for training\n",
    "back_trans_1_15.to_csv('back-trans-1-15.csv', index=False)\n",
    "\n",
    "print(\"CSV files have been concatenated and saved as 'back-trans-1-15.csv'.\")\n"
   ]
  },
  {
   "cell_type": "markdown",
   "id": "522739a2",
   "metadata": {},
   "source": [
    "## Create new training sets with augmented data\n",
    "\n",
    "trans-1-15.csv: Contains only translations from English comments to different languages\n",
    "\n",
    "back-1-15.csv: Contains only back-translations from non-English translations to English"
   ]
  },
  {
   "cell_type": "code",
   "execution_count": 2,
   "id": "75064603",
   "metadata": {},
   "outputs": [
    {
     "name": "stdout",
     "output_type": "stream",
     "text": [
      "DataFrames 'trans-1-15' and 'back-1-15' have been created and saved.\n"
     ]
    }
   ],
   "source": [
    "# Create the trans-1-15 dataframe\n",
    "# Required columns are identical to the training set\n",
    "trans_columns = ['id', 'comment_text', 'toxic', 'severe_toxic', 'obscene', 'threat', 'insult', 'identity_hate']\n",
    "# Columns with the translations in 6 languages\n",
    "trans_comment_cols = ['trans_comment-tr', 'trans_comment-ru', 'trans_comment-it', 'trans_comment-fr', 'trans_comment-pt', 'trans_comment-es']\n",
    "\n",
    "# Create empty list\n",
    "trans_data = []\n",
    "\n",
    "# Fill list with data from relevant columns\n",
    "for _, row in back_trans_1_15.iterrows():\n",
    "    for col in trans_comment_cols:\n",
    "        trans_data.append({\n",
    "            'id': row['id'],\n",
    "            'comment_text': row[col],\n",
    "            'toxic': row['toxic'],\n",
    "            'severe_toxic': row['severe_toxic'],\n",
    "            'obscene': row['obscene'],\n",
    "            'threat': row['threat'],\n",
    "            'insult': row['insult'],\n",
    "            'identity_hate': row['identity_hate']\n",
    "        })\n",
    "\n",
    "# Convert list to DataFrame\n",
    "trans_1_15 = pd.DataFrame(trans_data)\n",
    "\n",
    "# Save trans-1-15 to a .csv file\n",
    "trans_1_15.to_csv('trans-1-15.csv', index=False)\n",
    "\n",
    "# Create the back-1-15 dataframe\n",
    "# Required columns are identical to the training set\n",
    "back_columns = ['id', 'comment_text', 'toxic', 'severe_toxic', 'obscene', 'threat', 'insult', 'identity_hate']\n",
    "# Columns with the back-translations from 6 languages to English\n",
    "back_comment_cols = ['back-trans_comment-tr', 'back-trans_comment-ru', 'back-trans_comment-it', 'back-trans_comment-fr', 'back-trans_comment-pt', 'back-trans_comment-es']\n",
    "\n",
    "# Create empty list\n",
    "back_data = []\n",
    "\n",
    "# Fill list with data from relevant columns\n",
    "for _, row in back_trans_1_15.iterrows():\n",
    "    for col in back_comment_cols:\n",
    "        back_data.append({\n",
    "            'id': row['id'],\n",
    "            'comment_text': row[col],\n",
    "            'toxic': row['toxic'],\n",
    "            'severe_toxic': row['severe_toxic'],\n",
    "            'obscene': row['obscene'],\n",
    "            'threat': row['threat'],\n",
    "            'insult': row['insult'],\n",
    "            'identity_hate': row['identity_hate']\n",
    "        })\n",
    "\n",
    "# Convert list to DataFrame\n",
    "back_1_15 = pd.DataFrame(back_data)\n",
    "\n",
    "# Save back-1-15 to a .csv file\n",
    "back_1_15.to_csv('back-1-15.csv', index=False)\n",
    "\n",
    "# Print confirmation\n",
    "print(\"DataFrames 'trans-1-15' and 'back-1-15' have been created and saved.\")\n"
   ]
  },
  {
   "cell_type": "code",
   "execution_count": 3,
   "id": "9e24b08e",
   "metadata": {},
   "outputs": [
    {
     "name": "stdout",
     "output_type": "stream",
     "text": [
      "Shape of trans-1-15: (75816, 8)\n",
      "Shape of back-1-15: (75816, 8)\n"
     ]
    }
   ],
   "source": [
    "# Print the shape of the two new datasets\n",
    "print(\"Shape of trans-1-15:\", trans_1_15.shape)\n",
    "print(\"Shape of back-1-15:\", back_1_15.shape)\n",
    "\n"
   ]
  },
  {
   "cell_type": "markdown",
   "id": "11ed897d",
   "metadata": {},
   "source": [
    "## Add augmented toxic data to the original training dataset"
   ]
  },
  {
   "cell_type": "markdown",
   "id": "7f70bf05",
   "metadata": {},
   "source": [
    "### Separate toxic and non-toxic samples of the original training data"
   ]
  },
  {
   "cell_type": "code",
   "execution_count": 4,
   "id": "17321fd6",
   "metadata": {},
   "outputs": [
    {
     "name": "stdout",
     "output_type": "stream",
     "text": [
      "DataFrames 'non-tox' and 'orig-tox' have been created and saved.\n"
     ]
    }
   ],
   "source": [
    "# Read the original dataset into df\n",
    "df = pd.read_csv('jigsaw-toxic-comment-train.csv')\n",
    "\n",
    "# Create non-tox DataFrame: rows where toxic == 0 (= only non-toxic comments)\n",
    "non_tox = df[df['toxic'] == 0]\n",
    "\n",
    "# Create orig-tox DataFrame: rows where toxic == 1 (= only toxic comments)\n",
    "orig_tox = df[df['toxic'] == 1]\n",
    "\n",
    "# Save the new DataFrames as .csv files\n",
    "non_tox.to_csv('non-tox.csv', index=False)\n",
    "orig_tox.to_csv('orig-tox.csv', index=False)\n",
    "\n",
    "# Print confirmation\n",
    "print(\"DataFrames 'non-tox' and 'orig-tox' have been created and saved.\")\n"
   ]
  },
  {
   "cell_type": "markdown",
   "id": "3d61acba",
   "metadata": {},
   "source": [
    "### Create dataset with all toxic data (original and translated and back-translated augmented data)"
   ]
  },
  {
   "cell_type": "code",
   "execution_count": 5,
   "id": "feec5401",
   "metadata": {},
   "outputs": [
    {
     "name": "stdout",
     "output_type": "stream",
     "text": [
      "DataFrame 'all-tox' has been created and saved.\n"
     ]
    }
   ],
   "source": [
    "# Concatenate the DataFrames orig-tox, trans-1-15, and back-1-15\n",
    "all_tox = pd.concat([orig_tox, trans_1_15, back_1_15], ignore_index=True)\n",
    "\n",
    "# Save the concatenated DataFrame as .csv file\n",
    "all_tox.to_csv('all-tox.csv', index=False)\n",
    "\n",
    "# Print confirmation\n",
    "print(\"DataFrame 'all-tox' has been created and saved.\")\n"
   ]
  },
  {
   "cell_type": "markdown",
   "id": "bda70206",
   "metadata": {},
   "source": [
    "### Create training dataset with all toxic data and non-toxic data"
   ]
  },
  {
   "cell_type": "code",
   "execution_count": 6,
   "id": "792b7d41",
   "metadata": {},
   "outputs": [
    {
     "name": "stdout",
     "output_type": "stream",
     "text": [
      "DataFrame 'all_incl_aug_shuffle' has been created and saved.\n"
     ]
    }
   ],
   "source": [
    "# Concatenate the DataFrames all_tox and non_tox\n",
    "all_incl = pd.concat([all_tox, non_tox], ignore_index=True)\n",
    "\n",
    "# Shuffle the rows\n",
    "all_incl_shuffle = all_incl.sample(frac=1, random_state=42).reset_index(drop=True)\n",
    "\n",
    "# Save the shuffled DataFrame as a .csv file\n",
    "all_incl_shuffle.to_csv('all_incl_aug_shuffle.csv', index=False)\n",
    "\n",
    "# Print confirmation\n",
    "print(\"DataFrame 'all_incl_aug_shuffle' has been created and saved.\")\n"
   ]
  },
  {
   "cell_type": "code",
   "execution_count": 9,
   "id": "ab12013f",
   "metadata": {},
   "outputs": [
    {
     "name": "stdout",
     "output_type": "stream",
     "text": [
      "Shape of all_incl_shuffle: (375181, 8)\n",
      "Shape of all-tox: (173016, 8)\n"
     ]
    }
   ],
   "source": [
    "# Print the shape of the final augmented dataset\n",
    "print(\"Shape of all_incl_shuffle:\", all_incl_shuffle.shape)\n",
    "\n",
    "# Print the shape of the all-toxic dataset: \n",
    "print(\"Shape of all-tox:\", all_tox.shape)"
   ]
  }
 ],
 "metadata": {
  "kernelspec": {
   "display_name": "Python 3 (ipykernel)",
   "language": "python",
   "name": "python3"
  },
  "language_info": {
   "codemirror_mode": {
    "name": "ipython",
    "version": 3
   },
   "file_extension": ".py",
   "mimetype": "text/x-python",
   "name": "python",
   "nbconvert_exporter": "python",
   "pygments_lexer": "ipython3",
   "version": "3.11.7"
  }
 },
 "nbformat": 4,
 "nbformat_minor": 5
}
